{
 "cells": [
  {
   "cell_type": "code",
   "execution_count": 1,
   "id": "be28d095",
   "metadata": {},
   "outputs": [],
   "source": [
    "import pandas as pd"
   ]
  },
  {
   "cell_type": "code",
   "execution_count": 2,
   "id": "96e19ad3",
   "metadata": {},
   "outputs": [],
   "source": [
    "data=pd.read_csv('Groceries_dataset.csv')"
   ]
  },
  {
   "cell_type": "code",
   "execution_count": 3,
   "id": "893a3dc0",
   "metadata": {},
   "outputs": [
    {
     "name": "stdout",
     "output_type": "stream",
     "text": [
      "<class 'pandas.core.frame.DataFrame'>\n",
      "RangeIndex: 38765 entries, 0 to 38764\n",
      "Data columns (total 3 columns):\n",
      " #   Column           Non-Null Count  Dtype \n",
      "---  ------           --------------  ----- \n",
      " 0   Member_number    38765 non-null  int64 \n",
      " 1   Date             38765 non-null  object\n",
      " 2   itemDescription  38765 non-null  object\n",
      "dtypes: int64(1), object(2)\n",
      "memory usage: 908.7+ KB\n"
     ]
    }
   ],
   "source": [
    "data.info()"
   ]
  },
  {
   "cell_type": "code",
   "execution_count": 4,
   "id": "f707bf29",
   "metadata": {},
   "outputs": [
    {
     "data": {
      "text/html": [
       "<div>\n",
       "<style scoped>\n",
       "    .dataframe tbody tr th:only-of-type {\n",
       "        vertical-align: middle;\n",
       "    }\n",
       "\n",
       "    .dataframe tbody tr th {\n",
       "        vertical-align: top;\n",
       "    }\n",
       "\n",
       "    .dataframe thead th {\n",
       "        text-align: right;\n",
       "    }\n",
       "</style>\n",
       "<table border=\"1\" class=\"dataframe\">\n",
       "  <thead>\n",
       "    <tr style=\"text-align: right;\">\n",
       "      <th></th>\n",
       "      <th>Member_number</th>\n",
       "      <th>Date</th>\n",
       "      <th>itemDescription</th>\n",
       "    </tr>\n",
       "  </thead>\n",
       "  <tbody>\n",
       "    <tr>\n",
       "      <th>0</th>\n",
       "      <td>1808</td>\n",
       "      <td>21-07-2015</td>\n",
       "      <td>tropical fruit</td>\n",
       "    </tr>\n",
       "    <tr>\n",
       "      <th>1</th>\n",
       "      <td>2552</td>\n",
       "      <td>05-01-2015</td>\n",
       "      <td>whole milk</td>\n",
       "    </tr>\n",
       "    <tr>\n",
       "      <th>2</th>\n",
       "      <td>2300</td>\n",
       "      <td>19-09-2015</td>\n",
       "      <td>pip fruit</td>\n",
       "    </tr>\n",
       "    <tr>\n",
       "      <th>3</th>\n",
       "      <td>1187</td>\n",
       "      <td>12-12-2015</td>\n",
       "      <td>other vegetables</td>\n",
       "    </tr>\n",
       "    <tr>\n",
       "      <th>4</th>\n",
       "      <td>3037</td>\n",
       "      <td>01-02-2015</td>\n",
       "      <td>whole milk</td>\n",
       "    </tr>\n",
       "  </tbody>\n",
       "</table>\n",
       "</div>"
      ],
      "text/plain": [
       "   Member_number        Date   itemDescription\n",
       "0           1808  21-07-2015    tropical fruit\n",
       "1           2552  05-01-2015        whole milk\n",
       "2           2300  19-09-2015         pip fruit\n",
       "3           1187  12-12-2015  other vegetables\n",
       "4           3037  01-02-2015        whole milk"
      ]
     },
     "execution_count": 4,
     "metadata": {},
     "output_type": "execute_result"
    }
   ],
   "source": [
    "data.head()"
   ]
  },
  {
   "cell_type": "markdown",
   "id": "34e233e7",
   "metadata": {},
   "source": [
    "### We need the data to be in the transactions format where each member's single purchase should contain all the items bought as a single row, so we process the dataframe to get into that format. "
   ]
  },
  {
   "cell_type": "code",
   "execution_count": 5,
   "id": "ad98aaf0",
   "metadata": {},
   "outputs": [],
   "source": [
    "import matplotlib.pyplot as plt"
   ]
  },
  {
   "cell_type": "code",
   "execution_count": 6,
   "id": "2bb2b999",
   "metadata": {},
   "outputs": [],
   "source": [
    "obj=data.groupby(by=['Member_number','Date'])"
   ]
  },
  {
   "cell_type": "code",
   "execution_count": 7,
   "id": "b2f2bfa2",
   "metadata": {},
   "outputs": [],
   "source": [
    "sam=obj.get_group((2552,'05-01-2015'))"
   ]
  },
  {
   "cell_type": "code",
   "execution_count": 8,
   "id": "ce463e1d",
   "metadata": {},
   "outputs": [
    {
     "data": {
      "text/plain": [
       "array(['whole milk', 'tropical fruit', 'chocolate'], dtype=object)"
      ]
     },
     "execution_count": 8,
     "metadata": {},
     "output_type": "execute_result"
    }
   ],
   "source": [
    "sam['itemDescription'].values"
   ]
  },
  {
   "cell_type": "code",
   "execution_count": 9,
   "id": "1c188e7d",
   "metadata": {},
   "outputs": [
    {
     "data": {
      "text/plain": [
       "167"
      ]
     },
     "execution_count": 9,
     "metadata": {},
     "output_type": "execute_result"
    }
   ],
   "source": [
    "data['itemDescription'].nunique()"
   ]
  },
  {
   "cell_type": "code",
   "execution_count": 10,
   "id": "0b4a3bc4",
   "metadata": {},
   "outputs": [],
   "source": [
    "transaction={}"
   ]
  },
  {
   "cell_type": "code",
   "execution_count": 11,
   "id": "278431a5",
   "metadata": {},
   "outputs": [],
   "source": [
    "for i,j in obj.groups.items():\n",
    "    sam=obj.get_group(i)\n",
    "    transaction[i]=sam['itemDescription'].values"
   ]
  },
  {
   "cell_type": "code",
   "execution_count": 12,
   "id": "f8e144da",
   "metadata": {},
   "outputs": [],
   "source": [
    "C1=data['itemDescription'].value_counts()"
   ]
  },
  {
   "cell_type": "code",
   "execution_count": 13,
   "id": "0346b969",
   "metadata": {},
   "outputs": [
    {
     "data": {
      "text/plain": [
       "itemDescription\n",
       "whole milk               2502\n",
       "other vegetables         1898\n",
       "rolls/buns               1716\n",
       "soda                     1514\n",
       "yogurt                   1334\n",
       "                         ... \n",
       "rubbing alcohol             5\n",
       "bags                        4\n",
       "baby cosmetics              3\n",
       "kitchen utensil             1\n",
       "preservation products       1\n",
       "Name: count, Length: 167, dtype: int64"
      ]
     },
     "execution_count": 13,
     "metadata": {},
     "output_type": "execute_result"
    }
   ],
   "source": [
    "C1"
   ]
  },
  {
   "cell_type": "code",
   "execution_count": 14,
   "id": "28c73f38",
   "metadata": {},
   "outputs": [],
   "source": [
    "c_list=sorted(C1.index)\n",
    "C1=C1[c_list]"
   ]
  },
  {
   "cell_type": "code",
   "execution_count": 15,
   "id": "0149e6c2",
   "metadata": {},
   "outputs": [
    {
     "data": {
      "text/plain": [
       "itemDescription\n",
       "Instant food products      60\n",
       "UHT-milk                  323\n",
       "abrasive cleaner           22\n",
       "artif. sweetener           29\n",
       "baby cosmetics              3\n",
       "                         ... \n",
       "white bread               362\n",
       "white wine                176\n",
       "whole milk               2502\n",
       "yogurt                   1334\n",
       "zwieback                   60\n",
       "Name: count, Length: 167, dtype: int64"
      ]
     },
     "execution_count": 15,
     "metadata": {},
     "output_type": "execute_result"
    }
   ],
   "source": [
    "C1"
   ]
  },
  {
   "cell_type": "code",
   "execution_count": 16,
   "id": "686228b5",
   "metadata": {},
   "outputs": [],
   "source": [
    "import numpy as np\n",
    "from scipy import stats as st"
   ]
  },
  {
   "cell_type": "code",
   "execution_count": 17,
   "id": "8a6f554e",
   "metadata": {},
   "outputs": [
    {
     "name": "stdout",
     "output_type": "stream",
     "text": [
      "median: 85.0 \n",
      "mode: ModeResult(mode=array([5], dtype=int64), count=array([4])) \n",
      "mean: 232.125748502994\n"
     ]
    },
    {
     "name": "stderr",
     "output_type": "stream",
     "text": [
      "C:\\Users\\WELCOME\\AppData\\Local\\Temp\\ipykernel_1376\\1486841782.py:1: FutureWarning: Unlike other reduction functions (e.g. `skew`, `kurtosis`), the default behavior of `mode` typically preserves the axis it acts along. In SciPy 1.11.0, this behavior will change: the default value of `keepdims` will become False, the `axis` over which the statistic is taken will be eliminated, and the value None will no longer be accepted. Set `keepdims` to True or False to avoid this warning.\n",
      "  print('median:',np.median(C1),'\\nmode:',st.mode(C1),'\\nmean:',np.mean(C1))\n"
     ]
    }
   ],
   "source": [
    "print('median:',np.median(C1),'\\nmode:',st.mode(C1),'\\nmean:',np.mean(C1))"
   ]
  },
  {
   "cell_type": "code",
   "execution_count": 18,
   "id": "d046e12e",
   "metadata": {},
   "outputs": [],
   "source": [
    "min_support_count=25"
   ]
  },
  {
   "cell_type": "code",
   "execution_count": 19,
   "id": "b7818221",
   "metadata": {},
   "outputs": [
    {
     "name": "stdout",
     "output_type": "stream",
     "text": [
      "itemDescription\n",
      "Instant food products      60\n",
      "UHT-milk                  323\n",
      "artif. sweetener           29\n",
      "baking powder             122\n",
      "beef                      516\n",
      "                         ... \n",
      "white bread               362\n",
      "white wine                176\n",
      "whole milk               2502\n",
      "yogurt                   1334\n",
      "zwieback                   60\n",
      "Name: count, Length: 132, dtype: int64\n"
     ]
    }
   ],
   "source": [
    "print(C1[C1>min_support_count])"
   ]
  },
  {
   "cell_type": "code",
   "execution_count": 20,
   "id": "88c8dcae",
   "metadata": {},
   "outputs": [],
   "source": [
    "import threading\n",
    "import multiprocessing\n",
    "import math\n",
    "from itertools import combinations"
   ]
  },
  {
   "cell_type": "code",
   "execution_count": 21,
   "id": "2bd5ee96",
   "metadata": {},
   "outputs": [],
   "source": [
    "class apriori:\n",
    "    def __init__(self,transaction,min_count):\n",
    "        self.transaction_set=transaction\n",
    "        self.min_sup_count=min_count\n",
    "        \n",
    "    def c(self,C,C_count,i,n):\n",
    "        for j in range(i,n):\n",
    "            cn=0\n",
    "            for k in self.transaction_set.values():\n",
    "                if (all([item in k for item in C[j]])):\n",
    "                    cn+=1\n",
    "            C_count[C[k]]=cn\n",
    "            \n",
    "        return C_count\n",
    "    \n",
    "    def count_val(self,C):\n",
    "        C_count=pd.Series([1 for i in range(len(C))])\n",
    "        C_count.index=C\n",
    "        '''if(math.ceil(len(C)/10)>10):\n",
    "            for i in range(0,len(C),math.ceil(len(C)/10)):\n",
    "                Dynamic_Thread_Name=f't{i}'\n",
    "                globals()[Dynamic_Thread_Name]=threading.Thread(target=self.c,args=(C,C_count,i,math.ceil(len(C)/10)+i if (math.ceil(len(C)/10)+i)<len(C) else len(C)))\n",
    "                globals()[Dynamic_Thread_Name].start()\n",
    "                globals()[Dynamic_Thread_Name].join()\n",
    "            \n",
    "            t1=threading.Thread(target=self.c,args=(C,C_count,len(C)-math.floor(len(C)%math.ceil(len(C)/10)),len(C)))\n",
    "            t1.start()\n",
    "            t1.join()\n",
    "            \n",
    "        else:'''\n",
    "        for i in range(len(C)):\n",
    "            cn=0\n",
    "            for j in self.transaction_set.values():\n",
    "                if (all([item in j for item in C[i]])):\n",
    "                    cn+=1\n",
    "            C_count[C[i]]=cn\n",
    "            \n",
    "        return C_count\n",
    "    \n",
    "    def Candidate(self,k):\n",
    "        att=f'L{k-1}'\n",
    "        L_prev=getattr(self,att,None)\n",
    "        #join step\n",
    "        C=list()\n",
    "        ind=L_prev.index\n",
    "        for i in range(len(ind)):\n",
    "            for j in range(i+1,len(ind)):\n",
    "                list1=ind[i]\n",
    "                list2=ind[j]\n",
    "                if(all([list1[a]==list2[a] for a in range(len(list1)-1)])):\n",
    "                    C.append(tuple([a for a in list1[:-1]]+[list1[-1]]+[list2[-1]]))\n",
    "                    \n",
    "        print(C)\n",
    "        \n",
    "        #prune step\n",
    "        for i in C:\n",
    "            n_count=0\n",
    "            sam=combinations(i,k-1)\n",
    "            sam=list(sam)\n",
    "            for item in sam:\n",
    "                if item in ind:\n",
    "                    n_count+=1\n",
    "                    \n",
    "            if(n_count!=k):\n",
    "                C.remove(i)\n",
    "                \n",
    "        print(C)\n",
    "            \n",
    "            \n",
    "        C=self.count_val(C)\n",
    "        print(C)\n",
    "        L=C[C>=self.min_sup_count]\n",
    "        if(L.empty):\n",
    "            return 0\n",
    "        elif(len(L)==0):\n",
    "            return 0\n",
    "        else:\n",
    "            att=f'L{k}'\n",
    "            setattr(self,att,L)\n",
    "            return 1\n",
    "        \n",
    "    \n",
    "    def disp(self,k):\n",
    "        \n",
    "        for i in range(1,k):\n",
    "            print(f'L{i}:',getattr(self,f'L{i}',None))\n",
    "    \n",
    "    def define(self):\n",
    "        C1=[]\n",
    "        for i in self.transaction_set.values():\n",
    "            for j in i:\n",
    "                C1.append(j)\n",
    "                \n",
    "        C1=pd.Series(sorted(C1)).value_counts()\n",
    "        temp=sorted(C1.index)\n",
    "        C1=C1[temp]\n",
    "        L1=C1[C1>=self.min_sup_count]\n",
    "        setattr(self,'L1',L1)\n",
    "        ind=self.L1.index\n",
    "        C2=[]\n",
    "        for i in range(len(ind)):\n",
    "            for j in range(i+1,len(ind)):\n",
    "                list1=ind[i]\n",
    "                list2=ind[j]\n",
    "                C2.append(tuple([list1,list2])) \n",
    "        C2=self.count_val(C2)\n",
    "        L2=C2[C2>=self.min_sup_count]\n",
    "        setattr(self,'L2',L2)\n",
    "        k=3\n",
    "        flag=1\n",
    "        while(flag==1):\n",
    "            flag=self.Candidate(k)\n",
    "            k+=1\n",
    "            print('k:',k,'L:',getattr(self,f'L{k-1}',None))\n",
    "            \n",
    "        \n",
    "        self.disp(k-1)\n",
    "    "
   ]
  },
  {
   "cell_type": "code",
   "execution_count": 22,
   "id": "38440191",
   "metadata": {},
   "outputs": [],
   "source": [
    "a=apriori(transaction,min_support_count)"
   ]
  },
  {
   "cell_type": "code",
   "execution_count": 23,
   "id": "d00b6d21",
   "metadata": {},
   "outputs": [
    {
     "name": "stdout",
     "output_type": "stream",
     "text": [
      "[('UHT-milk', 'other vegetables', 'rolls/buns'), ('UHT-milk', 'other vegetables', 'whole milk'), ('UHT-milk', 'rolls/buns', 'whole milk'), ('beef', 'citrus fruit', 'newspapers'), ('beef', 'citrus fruit', 'other vegetables'), ('beef', 'citrus fruit', 'root vegetables'), ('beef', 'citrus fruit', 'soda'), ('beef', 'citrus fruit', 'whole milk'), ('beef', 'citrus fruit', 'yogurt'), ('beef', 'newspapers', 'other vegetables'), ('beef', 'newspapers', 'root vegetables'), ('beef', 'newspapers', 'soda'), ('beef', 'newspapers', 'whole milk'), ('beef', 'newspapers', 'yogurt'), ('beef', 'other vegetables', 'root vegetables'), ('beef', 'other vegetables', 'soda'), ('beef', 'other vegetables', 'whole milk'), ('beef', 'other vegetables', 'yogurt'), ('beef', 'root vegetables', 'soda'), ('beef', 'root vegetables', 'whole milk'), ('beef', 'root vegetables', 'yogurt'), ('beef', 'soda', 'whole milk'), ('beef', 'soda', 'yogurt'), ('beef', 'whole milk', 'yogurt'), ('berries', 'other vegetables', 'rolls/buns'), ('berries', 'other vegetables', 'whole milk'), ('berries', 'rolls/buns', 'whole milk'), ('beverages', 'other vegetables', 'soda'), ('beverages', 'other vegetables', 'whole milk'), ('beverages', 'soda', 'whole milk'), ('bottled beer', 'bottled water', 'butter'), ('bottled beer', 'bottled water', 'canned beer'), ('bottled beer', 'bottled water', 'citrus fruit'), ('bottled beer', 'bottled water', 'domestic eggs'), ('bottled beer', 'bottled water', 'frankfurter'), ('bottled beer', 'bottled water', 'fruit/vegetable juice'), ('bottled beer', 'bottled water', 'newspapers'), ('bottled beer', 'bottled water', 'other vegetables'), ('bottled beer', 'bottled water', 'pastry'), ('bottled beer', 'bottled water', 'rolls/buns'), ('bottled beer', 'bottled water', 'root vegetables'), ('bottled beer', 'bottled water', 'sausage'), ('bottled beer', 'bottled water', 'soda'), ('bottled beer', 'bottled water', 'tropical fruit'), ('bottled beer', 'bottled water', 'whole milk'), ('bottled beer', 'bottled water', 'yogurt'), ('bottled beer', 'butter', 'canned beer'), ('bottled beer', 'butter', 'citrus fruit'), ('bottled beer', 'butter', 'domestic eggs'), ('bottled beer', 'butter', 'frankfurter'), ('bottled beer', 'butter', 'fruit/vegetable juice'), ('bottled beer', 'butter', 'newspapers'), ('bottled beer', 'butter', 'other vegetables'), ('bottled beer', 'butter', 'pastry'), ('bottled beer', 'butter', 'rolls/buns'), ('bottled beer', 'butter', 'root vegetables'), ('bottled beer', 'butter', 'sausage'), ('bottled beer', 'butter', 'soda'), ('bottled beer', 'butter', 'tropical fruit'), ('bottled beer', 'butter', 'whole milk'), ('bottled beer', 'butter', 'yogurt'), ('bottled beer', 'canned beer', 'citrus fruit'), ('bottled beer', 'canned beer', 'domestic eggs'), ('bottled beer', 'canned beer', 'frankfurter'), ('bottled beer', 'canned beer', 'fruit/vegetable juice'), ('bottled beer', 'canned beer', 'newspapers'), ('bottled beer', 'canned beer', 'other vegetables'), ('bottled beer', 'canned beer', 'pastry'), ('bottled beer', 'canned beer', 'rolls/buns'), ('bottled beer', 'canned beer', 'root vegetables'), ('bottled beer', 'canned beer', 'sausage'), ('bottled beer', 'canned beer', 'soda'), ('bottled beer', 'canned beer', 'tropical fruit'), ('bottled beer', 'canned beer', 'whole milk'), ('bottled beer', 'canned beer', 'yogurt'), ('bottled beer', 'citrus fruit', 'domestic eggs'), ('bottled beer', 'citrus fruit', 'frankfurter'), ('bottled beer', 'citrus fruit', 'fruit/vegetable juice'), ('bottled beer', 'citrus fruit', 'newspapers'), ('bottled beer', 'citrus fruit', 'other vegetables'), ('bottled beer', 'citrus fruit', 'pastry'), ('bottled beer', 'citrus fruit', 'rolls/buns'), ('bottled beer', 'citrus fruit', 'root vegetables'), ('bottled beer', 'citrus fruit', 'sausage'), ('bottled beer', 'citrus fruit', 'soda'), ('bottled beer', 'citrus fruit', 'tropical fruit'), ('bottled beer', 'citrus fruit', 'whole milk'), ('bottled beer', 'citrus fruit', 'yogurt'), ('bottled beer', 'domestic eggs', 'frankfurter'), ('bottled beer', 'domestic eggs', 'fruit/vegetable juice'), ('bottled beer', 'domestic eggs', 'newspapers'), ('bottled beer', 'domestic eggs', 'other vegetables'), ('bottled beer', 'domestic eggs', 'pastry'), ('bottled beer', 'domestic eggs', 'rolls/buns'), ('bottled beer', 'domestic eggs', 'root vegetables'), ('bottled beer', 'domestic eggs', 'sausage'), ('bottled beer', 'domestic eggs', 'soda'), ('bottled beer', 'domestic eggs', 'tropical fruit'), ('bottled beer', 'domestic eggs', 'whole milk'), ('bottled beer', 'domestic eggs', 'yogurt'), ('bottled beer', 'frankfurter', 'fruit/vegetable juice'), ('bottled beer', 'frankfurter', 'newspapers'), ('bottled beer', 'frankfurter', 'other vegetables'), ('bottled beer', 'frankfurter', 'pastry'), ('bottled beer', 'frankfurter', 'rolls/buns'), ('bottled beer', 'frankfurter', 'root vegetables'), ('bottled beer', 'frankfurter', 'sausage'), ('bottled beer', 'frankfurter', 'soda'), ('bottled beer', 'frankfurter', 'tropical fruit'), ('bottled beer', 'frankfurter', 'whole milk'), ('bottled beer', 'frankfurter', 'yogurt'), ('bottled beer', 'fruit/vegetable juice', 'newspapers'), ('bottled beer', 'fruit/vegetable juice', 'other vegetables'), ('bottled beer', 'fruit/vegetable juice', 'pastry'), ('bottled beer', 'fruit/vegetable juice', 'rolls/buns'), ('bottled beer', 'fruit/vegetable juice', 'root vegetables'), ('bottled beer', 'fruit/vegetable juice', 'sausage'), ('bottled beer', 'fruit/vegetable juice', 'soda'), ('bottled beer', 'fruit/vegetable juice', 'tropical fruit'), ('bottled beer', 'fruit/vegetable juice', 'whole milk'), ('bottled beer', 'fruit/vegetable juice', 'yogurt'), ('bottled beer', 'newspapers', 'other vegetables'), ('bottled beer', 'newspapers', 'pastry'), ('bottled beer', 'newspapers', 'rolls/buns'), ('bottled beer', 'newspapers', 'root vegetables'), ('bottled beer', 'newspapers', 'sausage'), ('bottled beer', 'newspapers', 'soda'), ('bottled beer', 'newspapers', 'tropical fruit'), ('bottled beer', 'newspapers', 'whole milk'), ('bottled beer', 'newspapers', 'yogurt'), ('bottled beer', 'other vegetables', 'pastry'), ('bottled beer', 'other vegetables', 'rolls/buns'), ('bottled beer', 'other vegetables', 'root vegetables'), ('bottled beer', 'other vegetables', 'sausage'), ('bottled beer', 'other vegetables', 'soda'), ('bottled beer', 'other vegetables', 'tropical fruit'), ('bottled beer', 'other vegetables', 'whole milk'), ('bottled beer', 'other vegetables', 'yogurt'), ('bottled beer', 'pastry', 'rolls/buns'), ('bottled beer', 'pastry', 'root vegetables'), ('bottled beer', 'pastry', 'sausage'), ('bottled beer', 'pastry', 'soda'), ('bottled beer', 'pastry', 'tropical fruit'), ('bottled beer', 'pastry', 'whole milk'), ('bottled beer', 'pastry', 'yogurt'), ('bottled beer', 'rolls/buns', 'root vegetables'), ('bottled beer', 'rolls/buns', 'sausage'), ('bottled beer', 'rolls/buns', 'soda'), ('bottled beer', 'rolls/buns', 'tropical fruit'), ('bottled beer', 'rolls/buns', 'whole milk'), ('bottled beer', 'rolls/buns', 'yogurt'), ('bottled beer', 'root vegetables', 'sausage'), ('bottled beer', 'root vegetables', 'soda'), ('bottled beer', 'root vegetables', 'tropical fruit'), ('bottled beer', 'root vegetables', 'whole milk'), ('bottled beer', 'root vegetables', 'yogurt'), ('bottled beer', 'sausage', 'soda'), ('bottled beer', 'sausage', 'tropical fruit'), ('bottled beer', 'sausage', 'whole milk'), ('bottled beer', 'sausage', 'yogurt'), ('bottled beer', 'soda', 'tropical fruit'), ('bottled beer', 'soda', 'whole milk'), ('bottled beer', 'soda', 'yogurt'), ('bottled beer', 'tropical fruit', 'whole milk'), ('bottled beer', 'tropical fruit', 'yogurt'), ('bottled beer', 'whole milk', 'yogurt'), ('bottled water', 'butter', 'citrus fruit'), ('bottled water', 'butter', 'curd'), ('bottled water', 'butter', 'domestic eggs'), ('bottled water', 'butter', 'frankfurter'), ('bottled water', 'butter', 'newspapers'), ('bottled water', 'butter', 'other vegetables'), ('bottled water', 'butter', 'pastry'), ('bottled water', 'butter', 'pip fruit'), ('bottled water', 'butter', 'rolls/buns'), ('bottled water', 'butter', 'root vegetables'), ('bottled water', 'butter', 'sausage'), ('bottled water', 'butter', 'shopping bags'), ('bottled water', 'butter', 'soda'), ('bottled water', 'butter', 'tropical fruit'), ('bottled water', 'butter', 'whipped/sour cream'), ('bottled water', 'butter', 'whole milk'), ('bottled water', 'butter', 'yogurt'), ('bottled water', 'citrus fruit', 'curd'), ('bottled water', 'citrus fruit', 'domestic eggs'), ('bottled water', 'citrus fruit', 'frankfurter'), ('bottled water', 'citrus fruit', 'newspapers'), ('bottled water', 'citrus fruit', 'other vegetables'), ('bottled water', 'citrus fruit', 'pastry'), ('bottled water', 'citrus fruit', 'pip fruit'), ('bottled water', 'citrus fruit', 'rolls/buns'), ('bottled water', 'citrus fruit', 'root vegetables'), ('bottled water', 'citrus fruit', 'sausage'), ('bottled water', 'citrus fruit', 'shopping bags'), ('bottled water', 'citrus fruit', 'soda'), ('bottled water', 'citrus fruit', 'tropical fruit'), ('bottled water', 'citrus fruit', 'whipped/sour cream'), ('bottled water', 'citrus fruit', 'whole milk'), ('bottled water', 'citrus fruit', 'yogurt'), ('bottled water', 'curd', 'domestic eggs'), ('bottled water', 'curd', 'frankfurter'), ('bottled water', 'curd', 'newspapers'), ('bottled water', 'curd', 'other vegetables'), ('bottled water', 'curd', 'pastry'), ('bottled water', 'curd', 'pip fruit'), ('bottled water', 'curd', 'rolls/buns'), ('bottled water', 'curd', 'root vegetables'), ('bottled water', 'curd', 'sausage'), ('bottled water', 'curd', 'shopping bags'), ('bottled water', 'curd', 'soda'), ('bottled water', 'curd', 'tropical fruit'), ('bottled water', 'curd', 'whipped/sour cream'), ('bottled water', 'curd', 'whole milk'), ('bottled water', 'curd', 'yogurt'), ('bottled water', 'domestic eggs', 'frankfurter'), ('bottled water', 'domestic eggs', 'newspapers'), ('bottled water', 'domestic eggs', 'other vegetables'), ('bottled water', 'domestic eggs', 'pastry'), ('bottled water', 'domestic eggs', 'pip fruit'), ('bottled water', 'domestic eggs', 'rolls/buns'), ('bottled water', 'domestic eggs', 'root vegetables'), ('bottled water', 'domestic eggs', 'sausage'), ('bottled water', 'domestic eggs', 'shopping bags'), ('bottled water', 'domestic eggs', 'soda'), ('bottled water', 'domestic eggs', 'tropical fruit'), ('bottled water', 'domestic eggs', 'whipped/sour cream'), ('bottled water', 'domestic eggs', 'whole milk'), ('bottled water', 'domestic eggs', 'yogurt'), ('bottled water', 'frankfurter', 'newspapers'), ('bottled water', 'frankfurter', 'other vegetables'), ('bottled water', 'frankfurter', 'pastry'), ('bottled water', 'frankfurter', 'pip fruit'), ('bottled water', 'frankfurter', 'rolls/buns'), ('bottled water', 'frankfurter', 'root vegetables'), ('bottled water', 'frankfurter', 'sausage'), ('bottled water', 'frankfurter', 'shopping bags'), ('bottled water', 'frankfurter', 'soda'), ('bottled water', 'frankfurter', 'tropical fruit'), ('bottled water', 'frankfurter', 'whipped/sour cream'), ('bottled water', 'frankfurter', 'whole milk'), ('bottled water', 'frankfurter', 'yogurt'), ('bottled water', 'newspapers', 'other vegetables'), ('bottled water', 'newspapers', 'pastry'), ('bottled water', 'newspapers', 'pip fruit'), ('bottled water', 'newspapers', 'rolls/buns'), ('bottled water', 'newspapers', 'root vegetables'), ('bottled water', 'newspapers', 'sausage'), ('bottled water', 'newspapers', 'shopping bags'), ('bottled water', 'newspapers', 'soda'), ('bottled water', 'newspapers', 'tropical fruit'), ('bottled water', 'newspapers', 'whipped/sour cream'), ('bottled water', 'newspapers', 'whole milk'), ('bottled water', 'newspapers', 'yogurt'), ('bottled water', 'other vegetables', 'pastry'), ('bottled water', 'other vegetables', 'pip fruit'), ('bottled water', 'other vegetables', 'rolls/buns'), ('bottled water', 'other vegetables', 'root vegetables'), ('bottled water', 'other vegetables', 'sausage'), ('bottled water', 'other vegetables', 'shopping bags'), ('bottled water', 'other vegetables', 'soda'), ('bottled water', 'other vegetables', 'tropical fruit'), ('bottled water', 'other vegetables', 'whipped/sour cream'), ('bottled water', 'other vegetables', 'whole milk'), ('bottled water', 'other vegetables', 'yogurt'), ('bottled water', 'pastry', 'pip fruit'), ('bottled water', 'pastry', 'rolls/buns'), ('bottled water', 'pastry', 'root vegetables'), ('bottled water', 'pastry', 'sausage'), ('bottled water', 'pastry', 'shopping bags'), ('bottled water', 'pastry', 'soda'), ('bottled water', 'pastry', 'tropical fruit'), ('bottled water', 'pastry', 'whipped/sour cream'), ('bottled water', 'pastry', 'whole milk'), ('bottled water', 'pastry', 'yogurt'), ('bottled water', 'pip fruit', 'rolls/buns'), ('bottled water', 'pip fruit', 'root vegetables'), ('bottled water', 'pip fruit', 'sausage'), ('bottled water', 'pip fruit', 'shopping bags'), ('bottled water', 'pip fruit', 'soda'), ('bottled water', 'pip fruit', 'tropical fruit'), ('bottled water', 'pip fruit', 'whipped/sour cream'), ('bottled water', 'pip fruit', 'whole milk'), ('bottled water', 'pip fruit', 'yogurt'), ('bottled water', 'rolls/buns', 'root vegetables'), ('bottled water', 'rolls/buns', 'sausage'), ('bottled water', 'rolls/buns', 'shopping bags'), ('bottled water', 'rolls/buns', 'soda'), ('bottled water', 'rolls/buns', 'tropical fruit'), ('bottled water', 'rolls/buns', 'whipped/sour cream'), ('bottled water', 'rolls/buns', 'whole milk'), ('bottled water', 'rolls/buns', 'yogurt'), ('bottled water', 'root vegetables', 'sausage'), ('bottled water', 'root vegetables', 'shopping bags'), ('bottled water', 'root vegetables', 'soda'), ('bottled water', 'root vegetables', 'tropical fruit'), ('bottled water', 'root vegetables', 'whipped/sour cream'), ('bottled water', 'root vegetables', 'whole milk'), ('bottled water', 'root vegetables', 'yogurt'), ('bottled water', 'sausage', 'shopping bags'), ('bottled water', 'sausage', 'soda'), ('bottled water', 'sausage', 'tropical fruit'), ('bottled water', 'sausage', 'whipped/sour cream'), ('bottled water', 'sausage', 'whole milk'), ('bottled water', 'sausage', 'yogurt'), ('bottled water', 'shopping bags', 'soda'), ('bottled water', 'shopping bags', 'tropical fruit'), ('bottled water', 'shopping bags', 'whipped/sour cream'), ('bottled water', 'shopping bags', 'whole milk'), ('bottled water', 'shopping bags', 'yogurt'), ('bottled water', 'soda', 'tropical fruit'), ('bottled water', 'soda', 'whipped/sour cream'), ('bottled water', 'soda', 'whole milk'), ('bottled water', 'soda', 'yogurt'), ('bottled water', 'tropical fruit', 'whipped/sour cream'), ('bottled water', 'tropical fruit', 'whole milk'), ('bottled water', 'tropical fruit', 'yogurt'), ('bottled water', 'whipped/sour cream', 'whole milk'), ('bottled water', 'whipped/sour cream', 'yogurt'), ('bottled water', 'whole milk', 'yogurt'), ('brown bread', 'canned beer', 'citrus fruit'), ('brown bread', 'canned beer', 'other vegetables'), ('brown bread', 'canned beer', 'pastry'), ('brown bread', 'canned beer', 'pip fruit'), ('brown bread', 'canned beer', 'pork'), ('brown bread', 'canned beer', 'rolls/buns'), ('brown bread', 'canned beer', 'sausage'), ('brown bread', 'canned beer', 'soda'), ('brown bread', 'canned beer', 'whole milk'), ('brown bread', 'canned beer', 'yogurt'), ('brown bread', 'citrus fruit', 'other vegetables'), ('brown bread', 'citrus fruit', 'pastry'), ('brown bread', 'citrus fruit', 'pip fruit'), ('brown bread', 'citrus fruit', 'pork'), ('brown bread', 'citrus fruit', 'rolls/buns'), ('brown bread', 'citrus fruit', 'sausage'), ('brown bread', 'citrus fruit', 'soda'), ('brown bread', 'citrus fruit', 'whole milk'), ('brown bread', 'citrus fruit', 'yogurt'), ('brown bread', 'other vegetables', 'pastry'), ('brown bread', 'other vegetables', 'pip fruit'), ('brown bread', 'other vegetables', 'pork'), ('brown bread', 'other vegetables', 'rolls/buns'), ('brown bread', 'other vegetables', 'sausage'), ('brown bread', 'other vegetables', 'soda'), ('brown bread', 'other vegetables', 'whole milk'), ('brown bread', 'other vegetables', 'yogurt'), ('brown bread', 'pastry', 'pip fruit'), ('brown bread', 'pastry', 'pork'), ('brown bread', 'pastry', 'rolls/buns'), ('brown bread', 'pastry', 'sausage'), ('brown bread', 'pastry', 'soda'), ('brown bread', 'pastry', 'whole milk'), ('brown bread', 'pastry', 'yogurt'), ('brown bread', 'pip fruit', 'pork'), ('brown bread', 'pip fruit', 'rolls/buns'), ('brown bread', 'pip fruit', 'sausage'), ('brown bread', 'pip fruit', 'soda'), ('brown bread', 'pip fruit', 'whole milk'), ('brown bread', 'pip fruit', 'yogurt'), ('brown bread', 'pork', 'rolls/buns'), ('brown bread', 'pork', 'sausage'), ('brown bread', 'pork', 'soda'), ('brown bread', 'pork', 'whole milk'), ('brown bread', 'pork', 'yogurt'), ('brown bread', 'rolls/buns', 'sausage'), ('brown bread', 'rolls/buns', 'soda'), ('brown bread', 'rolls/buns', 'whole milk'), ('brown bread', 'rolls/buns', 'yogurt'), ('brown bread', 'sausage', 'soda'), ('brown bread', 'sausage', 'whole milk'), ('brown bread', 'sausage', 'yogurt'), ('brown bread', 'soda', 'whole milk'), ('brown bread', 'soda', 'yogurt'), ('brown bread', 'whole milk', 'yogurt'), ('butter', 'citrus fruit', 'other vegetables'), ('butter', 'citrus fruit', 'rolls/buns'), ('butter', 'citrus fruit', 'root vegetables'), ('butter', 'citrus fruit', 'sausage'), ('butter', 'citrus fruit', 'soda'), ('butter', 'citrus fruit', 'whole milk'), ('butter', 'citrus fruit', 'yogurt'), ('butter', 'other vegetables', 'rolls/buns'), ('butter', 'other vegetables', 'root vegetables'), ('butter', 'other vegetables', 'sausage'), ('butter', 'other vegetables', 'soda'), ('butter', 'other vegetables', 'whole milk'), ('butter', 'other vegetables', 'yogurt'), ('butter', 'rolls/buns', 'root vegetables'), ('butter', 'rolls/buns', 'sausage'), ('butter', 'rolls/buns', 'soda'), ('butter', 'rolls/buns', 'whole milk'), ('butter', 'rolls/buns', 'yogurt'), ('butter', 'root vegetables', 'sausage'), ('butter', 'root vegetables', 'soda'), ('butter', 'root vegetables', 'whole milk'), ('butter', 'root vegetables', 'yogurt'), ('butter', 'sausage', 'soda'), ('butter', 'sausage', 'whole milk'), ('butter', 'sausage', 'yogurt'), ('butter', 'soda', 'whole milk'), ('butter', 'soda', 'yogurt'), ('butter', 'whole milk', 'yogurt'), ('canned beer', 'newspapers', 'other vegetables'), ('canned beer', 'newspapers', 'pastry'), ('canned beer', 'newspapers', 'pork'), ('canned beer', 'newspapers', 'rolls/buns'), ('canned beer', 'newspapers', 'root vegetables'), ('canned beer', 'newspapers', 'sausage'), ('canned beer', 'newspapers', 'shopping bags'), ('canned beer', 'newspapers', 'soda'), ('canned beer', 'newspapers', 'tropical fruit'), ('canned beer', 'newspapers', 'whole milk'), ('canned beer', 'newspapers', 'yogurt'), ('canned beer', 'other vegetables', 'pastry'), ('canned beer', 'other vegetables', 'pork'), ('canned beer', 'other vegetables', 'rolls/buns'), ('canned beer', 'other vegetables', 'root vegetables'), ('canned beer', 'other vegetables', 'sausage'), ('canned beer', 'other vegetables', 'shopping bags'), ('canned beer', 'other vegetables', 'soda'), ('canned beer', 'other vegetables', 'tropical fruit'), ('canned beer', 'other vegetables', 'whole milk'), ('canned beer', 'other vegetables', 'yogurt'), ('canned beer', 'pastry', 'pork'), ('canned beer', 'pastry', 'rolls/buns'), ('canned beer', 'pastry', 'root vegetables'), ('canned beer', 'pastry', 'sausage'), ('canned beer', 'pastry', 'shopping bags'), ('canned beer', 'pastry', 'soda'), ('canned beer', 'pastry', 'tropical fruit'), ('canned beer', 'pastry', 'whole milk'), ('canned beer', 'pastry', 'yogurt'), ('canned beer', 'pork', 'rolls/buns'), ('canned beer', 'pork', 'root vegetables'), ('canned beer', 'pork', 'sausage'), ('canned beer', 'pork', 'shopping bags'), ('canned beer', 'pork', 'soda'), ('canned beer', 'pork', 'tropical fruit'), ('canned beer', 'pork', 'whole milk'), ('canned beer', 'pork', 'yogurt'), ('canned beer', 'rolls/buns', 'root vegetables'), ('canned beer', 'rolls/buns', 'sausage'), ('canned beer', 'rolls/buns', 'shopping bags'), ('canned beer', 'rolls/buns', 'soda'), ('canned beer', 'rolls/buns', 'tropical fruit'), ('canned beer', 'rolls/buns', 'whole milk'), ('canned beer', 'rolls/buns', 'yogurt'), ('canned beer', 'root vegetables', 'sausage'), ('canned beer', 'root vegetables', 'shopping bags'), ('canned beer', 'root vegetables', 'soda'), ('canned beer', 'root vegetables', 'tropical fruit'), ('canned beer', 'root vegetables', 'whole milk'), ('canned beer', 'root vegetables', 'yogurt'), ('canned beer', 'sausage', 'shopping bags'), ('canned beer', 'sausage', 'soda'), ('canned beer', 'sausage', 'tropical fruit'), ('canned beer', 'sausage', 'whole milk'), ('canned beer', 'sausage', 'yogurt'), ('canned beer', 'shopping bags', 'soda'), ('canned beer', 'shopping bags', 'tropical fruit'), ('canned beer', 'shopping bags', 'whole milk'), ('canned beer', 'shopping bags', 'yogurt'), ('canned beer', 'soda', 'tropical fruit'), ('canned beer', 'soda', 'whole milk'), ('canned beer', 'soda', 'yogurt'), ('canned beer', 'tropical fruit', 'whole milk'), ('canned beer', 'tropical fruit', 'yogurt'), ('canned beer', 'whole milk', 'yogurt'), ('chicken', 'other vegetables', 'rolls/buns'), ('chicken', 'other vegetables', 'soda'), ('chicken', 'other vegetables', 'whole milk'), ('chicken', 'other vegetables', 'yogurt'), ('chicken', 'rolls/buns', 'soda'), ('chicken', 'rolls/buns', 'whole milk'), ('chicken', 'rolls/buns', 'yogurt'), ('chicken', 'soda', 'whole milk'), ('chicken', 'soda', 'yogurt'), ('chicken', 'whole milk', 'yogurt'), ('chocolate', 'other vegetables', 'rolls/buns'), ('chocolate', 'other vegetables', 'soda'), ('chocolate', 'other vegetables', 'whole milk'), ('chocolate', 'rolls/buns', 'soda'), ('chocolate', 'rolls/buns', 'whole milk'), ('chocolate', 'soda', 'whole milk'), ('citrus fruit', 'frankfurter', 'other vegetables'), ('citrus fruit', 'frankfurter', 'pastry'), ('citrus fruit', 'frankfurter', 'rolls/buns'), ('citrus fruit', 'frankfurter', 'root vegetables'), ('citrus fruit', 'frankfurter', 'shopping bags'), ('citrus fruit', 'frankfurter', 'soda'), ('citrus fruit', 'frankfurter', 'tropical fruit'), ('citrus fruit', 'frankfurter', 'whipped/sour cream'), ('citrus fruit', 'frankfurter', 'whole milk'), ('citrus fruit', 'frankfurter', 'yogurt'), ('citrus fruit', 'other vegetables', 'pastry'), ('citrus fruit', 'other vegetables', 'rolls/buns'), ('citrus fruit', 'other vegetables', 'root vegetables'), ('citrus fruit', 'other vegetables', 'shopping bags'), ('citrus fruit', 'other vegetables', 'soda'), ('citrus fruit', 'other vegetables', 'tropical fruit'), ('citrus fruit', 'other vegetables', 'whipped/sour cream'), ('citrus fruit', 'other vegetables', 'whole milk'), ('citrus fruit', 'other vegetables', 'yogurt'), ('citrus fruit', 'pastry', 'rolls/buns'), ('citrus fruit', 'pastry', 'root vegetables'), ('citrus fruit', 'pastry', 'shopping bags'), ('citrus fruit', 'pastry', 'soda'), ('citrus fruit', 'pastry', 'tropical fruit'), ('citrus fruit', 'pastry', 'whipped/sour cream'), ('citrus fruit', 'pastry', 'whole milk'), ('citrus fruit', 'pastry', 'yogurt'), ('citrus fruit', 'rolls/buns', 'root vegetables'), ('citrus fruit', 'rolls/buns', 'shopping bags'), ('citrus fruit', 'rolls/buns', 'soda'), ('citrus fruit', 'rolls/buns', 'tropical fruit'), ('citrus fruit', 'rolls/buns', 'whipped/sour cream'), ('citrus fruit', 'rolls/buns', 'whole milk'), ('citrus fruit', 'rolls/buns', 'yogurt'), ('citrus fruit', 'root vegetables', 'shopping bags'), ('citrus fruit', 'root vegetables', 'soda'), ('citrus fruit', 'root vegetables', 'tropical fruit'), ('citrus fruit', 'root vegetables', 'whipped/sour cream'), ('citrus fruit', 'root vegetables', 'whole milk'), ('citrus fruit', 'root vegetables', 'yogurt'), ('citrus fruit', 'shopping bags', 'soda'), ('citrus fruit', 'shopping bags', 'tropical fruit'), ('citrus fruit', 'shopping bags', 'whipped/sour cream'), ('citrus fruit', 'shopping bags', 'whole milk'), ('citrus fruit', 'shopping bags', 'yogurt'), ('citrus fruit', 'soda', 'tropical fruit'), ('citrus fruit', 'soda', 'whipped/sour cream'), ('citrus fruit', 'soda', 'whole milk'), ('citrus fruit', 'soda', 'yogurt'), ('citrus fruit', 'tropical fruit', 'whipped/sour cream'), ('citrus fruit', 'tropical fruit', 'whole milk'), ('citrus fruit', 'tropical fruit', 'yogurt'), ('citrus fruit', 'whipped/sour cream', 'whole milk'), ('citrus fruit', 'whipped/sour cream', 'yogurt'), ('citrus fruit', 'whole milk', 'yogurt'), ('coffee', 'other vegetables', 'rolls/buns'), ('coffee', 'other vegetables', 'root vegetables'), ('coffee', 'other vegetables', 'soda'), ('coffee', 'other vegetables', 'whole milk'), ('coffee', 'other vegetables', 'yogurt'), ('coffee', 'rolls/buns', 'root vegetables'), ('coffee', 'rolls/buns', 'soda'), ('coffee', 'rolls/buns', 'whole milk'), ('coffee', 'rolls/buns', 'yogurt'), ('coffee', 'root vegetables', 'soda'), ('coffee', 'root vegetables', 'whole milk'), ('coffee', 'root vegetables', 'yogurt'), ('coffee', 'soda', 'whole milk'), ('coffee', 'soda', 'yogurt'), ('coffee', 'whole milk', 'yogurt'), ('cream cheese ', 'other vegetables', 'rolls/buns'), ('cream cheese ', 'other vegetables', 'whole milk'), ('cream cheese ', 'rolls/buns', 'whole milk'), ('curd', 'other vegetables', 'rolls/buns'), ('curd', 'other vegetables', 'sausage'), ('curd', 'other vegetables', 'soda'), ('curd', 'other vegetables', 'tropical fruit'), ('curd', 'other vegetables', 'whipped/sour cream'), ('curd', 'other vegetables', 'whole milk'), ('curd', 'other vegetables', 'yogurt'), ('curd', 'rolls/buns', 'sausage'), ('curd', 'rolls/buns', 'soda'), ('curd', 'rolls/buns', 'tropical fruit'), ('curd', 'rolls/buns', 'whipped/sour cream'), ('curd', 'rolls/buns', 'whole milk'), ('curd', 'rolls/buns', 'yogurt'), ('curd', 'sausage', 'soda'), ('curd', 'sausage', 'tropical fruit'), ('curd', 'sausage', 'whipped/sour cream'), ('curd', 'sausage', 'whole milk'), ('curd', 'sausage', 'yogurt'), ('curd', 'soda', 'tropical fruit'), ('curd', 'soda', 'whipped/sour cream'), ('curd', 'soda', 'whole milk'), ('curd', 'soda', 'yogurt'), ('curd', 'tropical fruit', 'whipped/sour cream'), ('curd', 'tropical fruit', 'whole milk'), ('curd', 'tropical fruit', 'yogurt'), ('curd', 'whipped/sour cream', 'whole milk'), ('curd', 'whipped/sour cream', 'yogurt'), ('curd', 'whole milk', 'yogurt'), ('dessert', 'other vegetables', 'rolls/buns'), ('dessert', 'other vegetables', 'whole milk'), ('dessert', 'rolls/buns', 'whole milk'), ('domestic eggs', 'other vegetables', 'rolls/buns'), ('domestic eggs', 'other vegetables', 'root vegetables'), ('domestic eggs', 'other vegetables', 'sausage'), ('domestic eggs', 'other vegetables', 'soda'), ('domestic eggs', 'other vegetables', 'tropical fruit'), ('domestic eggs', 'other vegetables', 'whole milk'), ('domestic eggs', 'other vegetables', 'yogurt'), ('domestic eggs', 'rolls/buns', 'root vegetables'), ('domestic eggs', 'rolls/buns', 'sausage'), ('domestic eggs', 'rolls/buns', 'soda'), ('domestic eggs', 'rolls/buns', 'tropical fruit'), ('domestic eggs', 'rolls/buns', 'whole milk'), ('domestic eggs', 'rolls/buns', 'yogurt'), ('domestic eggs', 'root vegetables', 'sausage'), ('domestic eggs', 'root vegetables', 'soda'), ('domestic eggs', 'root vegetables', 'tropical fruit'), ('domestic eggs', 'root vegetables', 'whole milk'), ('domestic eggs', 'root vegetables', 'yogurt'), ('domestic eggs', 'sausage', 'soda'), ('domestic eggs', 'sausage', 'tropical fruit'), ('domestic eggs', 'sausage', 'whole milk'), ('domestic eggs', 'sausage', 'yogurt'), ('domestic eggs', 'soda', 'tropical fruit'), ('domestic eggs', 'soda', 'whole milk'), ('domestic eggs', 'soda', 'yogurt'), ('domestic eggs', 'tropical fruit', 'whole milk'), ('domestic eggs', 'tropical fruit', 'yogurt'), ('domestic eggs', 'whole milk', 'yogurt'), ('frankfurter', 'other vegetables', 'pastry'), ('frankfurter', 'other vegetables', 'pip fruit'), ('frankfurter', 'other vegetables', 'rolls/buns'), ('frankfurter', 'other vegetables', 'root vegetables'), ('frankfurter', 'other vegetables', 'soda'), ('frankfurter', 'other vegetables', 'whole milk'), ('frankfurter', 'other vegetables', 'yogurt'), ('frankfurter', 'pastry', 'pip fruit'), ('frankfurter', 'pastry', 'rolls/buns'), ('frankfurter', 'pastry', 'root vegetables'), ('frankfurter', 'pastry', 'soda'), ('frankfurter', 'pastry', 'whole milk'), ('frankfurter', 'pastry', 'yogurt'), ('frankfurter', 'pip fruit', 'rolls/buns'), ('frankfurter', 'pip fruit', 'root vegetables'), ('frankfurter', 'pip fruit', 'soda'), ('frankfurter', 'pip fruit', 'whole milk'), ('frankfurter', 'pip fruit', 'yogurt'), ('frankfurter', 'rolls/buns', 'root vegetables'), ('frankfurter', 'rolls/buns', 'soda'), ('frankfurter', 'rolls/buns', 'whole milk'), ('frankfurter', 'rolls/buns', 'yogurt'), ('frankfurter', 'root vegetables', 'soda'), ('frankfurter', 'root vegetables', 'whole milk'), ('frankfurter', 'root vegetables', 'yogurt'), ('frankfurter', 'soda', 'whole milk'), ('frankfurter', 'soda', 'yogurt'), ('frankfurter', 'whole milk', 'yogurt'), ('frozen meals', 'other vegetables', 'whole milk'), ('frozen vegetables', 'other vegetables', 'rolls/buns'), ('frozen vegetables', 'other vegetables', 'root vegetables'), ('frozen vegetables', 'other vegetables', 'sausage'), ('frozen vegetables', 'other vegetables', 'soda'), ('frozen vegetables', 'other vegetables', 'whole milk'), ('frozen vegetables', 'other vegetables', 'yogurt'), ('frozen vegetables', 'rolls/buns', 'root vegetables'), ('frozen vegetables', 'rolls/buns', 'sausage'), ('frozen vegetables', 'rolls/buns', 'soda'), ('frozen vegetables', 'rolls/buns', 'whole milk'), ('frozen vegetables', 'rolls/buns', 'yogurt'), ('frozen vegetables', 'root vegetables', 'sausage'), ('frozen vegetables', 'root vegetables', 'soda'), ('frozen vegetables', 'root vegetables', 'whole milk'), ('frozen vegetables', 'root vegetables', 'yogurt'), ('frozen vegetables', 'sausage', 'soda'), ('frozen vegetables', 'sausage', 'whole milk'), ('frozen vegetables', 'sausage', 'yogurt'), ('frozen vegetables', 'soda', 'whole milk'), ('frozen vegetables', 'soda', 'yogurt'), ('frozen vegetables', 'whole milk', 'yogurt'), ('fruit/vegetable juice', 'other vegetables', 'rolls/buns'), ('fruit/vegetable juice', 'other vegetables', 'root vegetables'), ('fruit/vegetable juice', 'other vegetables', 'sausage'), ('fruit/vegetable juice', 'other vegetables', 'soda'), ('fruit/vegetable juice', 'other vegetables', 'tropical fruit'), ('fruit/vegetable juice', 'other vegetables', 'whole milk'), ('fruit/vegetable juice', 'other vegetables', 'yogurt'), ('fruit/vegetable juice', 'rolls/buns', 'root vegetables'), ('fruit/vegetable juice', 'rolls/buns', 'sausage'), ('fruit/vegetable juice', 'rolls/buns', 'soda'), ('fruit/vegetable juice', 'rolls/buns', 'tropical fruit'), ('fruit/vegetable juice', 'rolls/buns', 'whole milk'), ('fruit/vegetable juice', 'rolls/buns', 'yogurt'), ('fruit/vegetable juice', 'root vegetables', 'sausage'), ('fruit/vegetable juice', 'root vegetables', 'soda'), ('fruit/vegetable juice', 'root vegetables', 'tropical fruit'), ('fruit/vegetable juice', 'root vegetables', 'whole milk'), ('fruit/vegetable juice', 'root vegetables', 'yogurt'), ('fruit/vegetable juice', 'sausage', 'soda'), ('fruit/vegetable juice', 'sausage', 'tropical fruit'), ('fruit/vegetable juice', 'sausage', 'whole milk'), ('fruit/vegetable juice', 'sausage', 'yogurt'), ('fruit/vegetable juice', 'soda', 'tropical fruit'), ('fruit/vegetable juice', 'soda', 'whole milk'), ('fruit/vegetable juice', 'soda', 'yogurt'), ('fruit/vegetable juice', 'tropical fruit', 'whole milk'), ('fruit/vegetable juice', 'tropical fruit', 'yogurt'), ('fruit/vegetable juice', 'whole milk', 'yogurt'), ('hamburger meat', 'other vegetables', 'rolls/buns'), ('hamburger meat', 'other vegetables', 'soda'), ('hamburger meat', 'other vegetables', 'whole milk'), ('hamburger meat', 'other vegetables', 'yogurt'), ('hamburger meat', 'rolls/buns', 'soda'), ('hamburger meat', 'rolls/buns', 'whole milk'), ('hamburger meat', 'rolls/buns', 'yogurt'), ('hamburger meat', 'soda', 'whole milk'), ('hamburger meat', 'soda', 'yogurt'), ('hamburger meat', 'whole milk', 'yogurt'), ('hard cheese', 'other vegetables', 'rolls/buns'), ('hard cheese', 'other vegetables', 'whole milk'), ('hard cheese', 'rolls/buns', 'whole milk'), ('ice cream', 'rolls/buns', 'whole milk'), ('long life bakery product', 'rolls/buns', 'whole milk'), ('margarine', 'other vegetables', 'rolls/buns'), ('margarine', 'other vegetables', 'root vegetables'), ('margarine', 'other vegetables', 'sausage'), ('margarine', 'other vegetables', 'soda'), ('margarine', 'other vegetables', 'whole milk'), ('margarine', 'other vegetables', 'yogurt'), ('margarine', 'rolls/buns', 'root vegetables'), ('margarine', 'rolls/buns', 'sausage'), ('margarine', 'rolls/buns', 'soda'), ('margarine', 'rolls/buns', 'whole milk'), ('margarine', 'rolls/buns', 'yogurt'), ('margarine', 'root vegetables', 'sausage'), ('margarine', 'root vegetables', 'soda'), ('margarine', 'root vegetables', 'whole milk'), ('margarine', 'root vegetables', 'yogurt'), ('margarine', 'sausage', 'soda'), ('margarine', 'sausage', 'whole milk'), ('margarine', 'sausage', 'yogurt'), ('margarine', 'soda', 'whole milk'), ('margarine', 'soda', 'yogurt'), ('margarine', 'whole milk', 'yogurt'), ('meat', 'other vegetables', 'whole milk'), ('napkins', 'other vegetables', 'pastry'), ('napkins', 'other vegetables', 'rolls/buns'), ('napkins', 'other vegetables', 'whole milk'), ('napkins', 'other vegetables', 'yogurt'), ('napkins', 'pastry', 'rolls/buns'), ('napkins', 'pastry', 'whole milk'), ('napkins', 'pastry', 'yogurt'), ('napkins', 'rolls/buns', 'whole milk'), ('napkins', 'rolls/buns', 'yogurt'), ('napkins', 'whole milk', 'yogurt'), ('newspapers', 'other vegetables', 'pastry'), ('newspapers', 'other vegetables', 'rolls/buns'), ('newspapers', 'other vegetables', 'root vegetables'), ('newspapers', 'other vegetables', 'sausage'), ('newspapers', 'other vegetables', 'shopping bags'), ('newspapers', 'other vegetables', 'soda'), ('newspapers', 'other vegetables', 'tropical fruit'), ('newspapers', 'other vegetables', 'whole milk'), ('newspapers', 'other vegetables', 'yogurt'), ('newspapers', 'pastry', 'rolls/buns'), ('newspapers', 'pastry', 'root vegetables'), ('newspapers', 'pastry', 'sausage'), ('newspapers', 'pastry', 'shopping bags'), ('newspapers', 'pastry', 'soda'), ('newspapers', 'pastry', 'tropical fruit'), ('newspapers', 'pastry', 'whole milk'), ('newspapers', 'pastry', 'yogurt'), ('newspapers', 'rolls/buns', 'root vegetables'), ('newspapers', 'rolls/buns', 'sausage'), ('newspapers', 'rolls/buns', 'shopping bags'), ('newspapers', 'rolls/buns', 'soda'), ('newspapers', 'rolls/buns', 'tropical fruit'), ('newspapers', 'rolls/buns', 'whole milk'), ('newspapers', 'rolls/buns', 'yogurt'), ('newspapers', 'root vegetables', 'sausage'), ('newspapers', 'root vegetables', 'shopping bags'), ('newspapers', 'root vegetables', 'soda'), ('newspapers', 'root vegetables', 'tropical fruit'), ('newspapers', 'root vegetables', 'whole milk'), ('newspapers', 'root vegetables', 'yogurt'), ('newspapers', 'sausage', 'shopping bags'), ('newspapers', 'sausage', 'soda'), ('newspapers', 'sausage', 'tropical fruit'), ('newspapers', 'sausage', 'whole milk'), ('newspapers', 'sausage', 'yogurt'), ('newspapers', 'shopping bags', 'soda'), ('newspapers', 'shopping bags', 'tropical fruit'), ('newspapers', 'shopping bags', 'whole milk'), ('newspapers', 'shopping bags', 'yogurt'), ('newspapers', 'soda', 'tropical fruit'), ('newspapers', 'soda', 'whole milk'), ('newspapers', 'soda', 'yogurt'), ('newspapers', 'tropical fruit', 'whole milk'), ('newspapers', 'tropical fruit', 'yogurt'), ('newspapers', 'whole milk', 'yogurt'), ('oil', 'other vegetables', 'soda'), ('oil', 'other vegetables', 'whole milk'), ('oil', 'soda', 'whole milk'), ('onions', 'rolls/buns', 'whole milk'), ('other vegetables', 'pastry', 'pip fruit'), ('other vegetables', 'pastry', 'pork'), ('other vegetables', 'pastry', 'rolls/buns'), ('other vegetables', 'pastry', 'root vegetables'), ('other vegetables', 'pastry', 'salty snack'), ('other vegetables', 'pastry', 'sausage'), ('other vegetables', 'pastry', 'shopping bags'), ('other vegetables', 'pastry', 'soda'), ('other vegetables', 'pastry', 'specialty bar'), ('other vegetables', 'pastry', 'specialty chocolate'), ('other vegetables', 'pastry', 'tropical fruit'), ('other vegetables', 'pastry', 'waffles'), ('other vegetables', 'pastry', 'whipped/sour cream'), ('other vegetables', 'pastry', 'white bread'), ('other vegetables', 'pastry', 'whole milk'), ('other vegetables', 'pastry', 'yogurt'), ('other vegetables', 'pip fruit', 'pork'), ('other vegetables', 'pip fruit', 'rolls/buns'), ('other vegetables', 'pip fruit', 'root vegetables'), ('other vegetables', 'pip fruit', 'salty snack'), ('other vegetables', 'pip fruit', 'sausage'), ('other vegetables', 'pip fruit', 'shopping bags'), ('other vegetables', 'pip fruit', 'soda'), ('other vegetables', 'pip fruit', 'specialty bar'), ('other vegetables', 'pip fruit', 'specialty chocolate'), ('other vegetables', 'pip fruit', 'tropical fruit'), ('other vegetables', 'pip fruit', 'waffles'), ('other vegetables', 'pip fruit', 'whipped/sour cream'), ('other vegetables', 'pip fruit', 'white bread'), ('other vegetables', 'pip fruit', 'whole milk'), ('other vegetables', 'pip fruit', 'yogurt'), ('other vegetables', 'pork', 'rolls/buns'), ('other vegetables', 'pork', 'root vegetables'), ('other vegetables', 'pork', 'salty snack'), ('other vegetables', 'pork', 'sausage'), ('other vegetables', 'pork', 'shopping bags'), ('other vegetables', 'pork', 'soda'), ('other vegetables', 'pork', 'specialty bar'), ('other vegetables', 'pork', 'specialty chocolate'), ('other vegetables', 'pork', 'tropical fruit'), ('other vegetables', 'pork', 'waffles'), ('other vegetables', 'pork', 'whipped/sour cream'), ('other vegetables', 'pork', 'white bread'), ('other vegetables', 'pork', 'whole milk'), ('other vegetables', 'pork', 'yogurt'), ('other vegetables', 'rolls/buns', 'root vegetables'), ('other vegetables', 'rolls/buns', 'salty snack'), ('other vegetables', 'rolls/buns', 'sausage'), ('other vegetables', 'rolls/buns', 'shopping bags'), ('other vegetables', 'rolls/buns', 'soda'), ('other vegetables', 'rolls/buns', 'specialty bar'), ('other vegetables', 'rolls/buns', 'specialty chocolate'), ('other vegetables', 'rolls/buns', 'tropical fruit'), ('other vegetables', 'rolls/buns', 'waffles'), ('other vegetables', 'rolls/buns', 'whipped/sour cream'), ('other vegetables', 'rolls/buns', 'white bread'), ('other vegetables', 'rolls/buns', 'whole milk'), ('other vegetables', 'rolls/buns', 'yogurt'), ('other vegetables', 'root vegetables', 'salty snack'), ('other vegetables', 'root vegetables', 'sausage'), ('other vegetables', 'root vegetables', 'shopping bags'), ('other vegetables', 'root vegetables', 'soda'), ('other vegetables', 'root vegetables', 'specialty bar'), ('other vegetables', 'root vegetables', 'specialty chocolate'), ('other vegetables', 'root vegetables', 'tropical fruit'), ('other vegetables', 'root vegetables', 'waffles'), ('other vegetables', 'root vegetables', 'whipped/sour cream'), ('other vegetables', 'root vegetables', 'white bread'), ('other vegetables', 'root vegetables', 'whole milk'), ('other vegetables', 'root vegetables', 'yogurt'), ('other vegetables', 'salty snack', 'sausage'), ('other vegetables', 'salty snack', 'shopping bags'), ('other vegetables', 'salty snack', 'soda'), ('other vegetables', 'salty snack', 'specialty bar'), ('other vegetables', 'salty snack', 'specialty chocolate'), ('other vegetables', 'salty snack', 'tropical fruit'), ('other vegetables', 'salty snack', 'waffles'), ('other vegetables', 'salty snack', 'whipped/sour cream'), ('other vegetables', 'salty snack', 'white bread'), ('other vegetables', 'salty snack', 'whole milk'), ('other vegetables', 'salty snack', 'yogurt'), ('other vegetables', 'sausage', 'shopping bags'), ('other vegetables', 'sausage', 'soda'), ('other vegetables', 'sausage', 'specialty bar'), ('other vegetables', 'sausage', 'specialty chocolate'), ('other vegetables', 'sausage', 'tropical fruit'), ('other vegetables', 'sausage', 'waffles'), ('other vegetables', 'sausage', 'whipped/sour cream'), ('other vegetables', 'sausage', 'white bread'), ('other vegetables', 'sausage', 'whole milk'), ('other vegetables', 'sausage', 'yogurt'), ('other vegetables', 'shopping bags', 'soda'), ('other vegetables', 'shopping bags', 'specialty bar'), ('other vegetables', 'shopping bags', 'specialty chocolate'), ('other vegetables', 'shopping bags', 'tropical fruit'), ('other vegetables', 'shopping bags', 'waffles'), ('other vegetables', 'shopping bags', 'whipped/sour cream'), ('other vegetables', 'shopping bags', 'white bread'), ('other vegetables', 'shopping bags', 'whole milk'), ('other vegetables', 'shopping bags', 'yogurt'), ('other vegetables', 'soda', 'specialty bar'), ('other vegetables', 'soda', 'specialty chocolate'), ('other vegetables', 'soda', 'tropical fruit'), ('other vegetables', 'soda', 'waffles'), ('other vegetables', 'soda', 'whipped/sour cream'), ('other vegetables', 'soda', 'white bread'), ('other vegetables', 'soda', 'whole milk'), ('other vegetables', 'soda', 'yogurt'), ('other vegetables', 'specialty bar', 'specialty chocolate'), ('other vegetables', 'specialty bar', 'tropical fruit'), ('other vegetables', 'specialty bar', 'waffles'), ('other vegetables', 'specialty bar', 'whipped/sour cream'), ('other vegetables', 'specialty bar', 'white bread'), ('other vegetables', 'specialty bar', 'whole milk'), ('other vegetables', 'specialty bar', 'yogurt'), ('other vegetables', 'specialty chocolate', 'tropical fruit'), ('other vegetables', 'specialty chocolate', 'waffles'), ('other vegetables', 'specialty chocolate', 'whipped/sour cream'), ('other vegetables', 'specialty chocolate', 'white bread'), ('other vegetables', 'specialty chocolate', 'whole milk'), ('other vegetables', 'specialty chocolate', 'yogurt'), ('other vegetables', 'tropical fruit', 'waffles'), ('other vegetables', 'tropical fruit', 'whipped/sour cream'), ('other vegetables', 'tropical fruit', 'white bread'), ('other vegetables', 'tropical fruit', 'whole milk'), ('other vegetables', 'tropical fruit', 'yogurt'), ('other vegetables', 'waffles', 'whipped/sour cream'), ('other vegetables', 'waffles', 'white bread'), ('other vegetables', 'waffles', 'whole milk'), ('other vegetables', 'waffles', 'yogurt'), ('other vegetables', 'whipped/sour cream', 'white bread'), ('other vegetables', 'whipped/sour cream', 'whole milk'), ('other vegetables', 'whipped/sour cream', 'yogurt'), ('other vegetables', 'white bread', 'whole milk'), ('other vegetables', 'white bread', 'yogurt'), ('other vegetables', 'whole milk', 'yogurt'), ('pastry', 'pip fruit', 'rolls/buns'), ('pastry', 'pip fruit', 'root vegetables'), ('pastry', 'pip fruit', 'sausage'), ('pastry', 'pip fruit', 'soda'), ('pastry', 'pip fruit', 'tropical fruit'), ('pastry', 'pip fruit', 'whole milk'), ('pastry', 'pip fruit', 'yogurt'), ('pastry', 'rolls/buns', 'root vegetables'), ('pastry', 'rolls/buns', 'sausage'), ('pastry', 'rolls/buns', 'soda'), ('pastry', 'rolls/buns', 'tropical fruit'), ('pastry', 'rolls/buns', 'whole milk'), ('pastry', 'rolls/buns', 'yogurt'), ('pastry', 'root vegetables', 'sausage'), ('pastry', 'root vegetables', 'soda'), ('pastry', 'root vegetables', 'tropical fruit'), ('pastry', 'root vegetables', 'whole milk'), ('pastry', 'root vegetables', 'yogurt'), ('pastry', 'sausage', 'soda'), ('pastry', 'sausage', 'tropical fruit'), ('pastry', 'sausage', 'whole milk'), ('pastry', 'sausage', 'yogurt'), ('pastry', 'soda', 'tropical fruit'), ('pastry', 'soda', 'whole milk'), ('pastry', 'soda', 'yogurt'), ('pastry', 'tropical fruit', 'whole milk'), ('pastry', 'tropical fruit', 'yogurt'), ('pastry', 'whole milk', 'yogurt'), ('pip fruit', 'rolls/buns', 'root vegetables'), ('pip fruit', 'rolls/buns', 'sausage'), ('pip fruit', 'rolls/buns', 'shopping bags'), ('pip fruit', 'rolls/buns', 'soda'), ('pip fruit', 'rolls/buns', 'tropical fruit'), ('pip fruit', 'rolls/buns', 'whipped/sour cream'), ('pip fruit', 'rolls/buns', 'whole milk'), ('pip fruit', 'rolls/buns', 'yogurt'), ('pip fruit', 'root vegetables', 'sausage'), ('pip fruit', 'root vegetables', 'shopping bags'), ('pip fruit', 'root vegetables', 'soda'), ('pip fruit', 'root vegetables', 'tropical fruit'), ('pip fruit', 'root vegetables', 'whipped/sour cream'), ('pip fruit', 'root vegetables', 'whole milk'), ('pip fruit', 'root vegetables', 'yogurt'), ('pip fruit', 'sausage', 'shopping bags'), ('pip fruit', 'sausage', 'soda'), ('pip fruit', 'sausage', 'tropical fruit'), ('pip fruit', 'sausage', 'whipped/sour cream'), ('pip fruit', 'sausage', 'whole milk'), ('pip fruit', 'sausage', 'yogurt'), ('pip fruit', 'shopping bags', 'soda'), ('pip fruit', 'shopping bags', 'tropical fruit'), ('pip fruit', 'shopping bags', 'whipped/sour cream'), ('pip fruit', 'shopping bags', 'whole milk'), ('pip fruit', 'shopping bags', 'yogurt'), ('pip fruit', 'soda', 'tropical fruit'), ('pip fruit', 'soda', 'whipped/sour cream'), ('pip fruit', 'soda', 'whole milk'), ('pip fruit', 'soda', 'yogurt'), ('pip fruit', 'tropical fruit', 'whipped/sour cream'), ('pip fruit', 'tropical fruit', 'whole milk'), ('pip fruit', 'tropical fruit', 'yogurt'), ('pip fruit', 'whipped/sour cream', 'whole milk'), ('pip fruit', 'whipped/sour cream', 'yogurt'), ('pip fruit', 'whole milk', 'yogurt'), ('pork', 'rolls/buns', 'root vegetables'), ('pork', 'rolls/buns', 'soda'), ('pork', 'rolls/buns', 'whole milk'), ('pork', 'rolls/buns', 'yogurt'), ('pork', 'root vegetables', 'soda'), ('pork', 'root vegetables', 'whole milk'), ('pork', 'root vegetables', 'yogurt'), ('pork', 'soda', 'whole milk'), ('pork', 'soda', 'yogurt'), ('pork', 'whole milk', 'yogurt'), ('rolls/buns', 'root vegetables', 'salty snack'), ('rolls/buns', 'root vegetables', 'sausage'), ('rolls/buns', 'root vegetables', 'shopping bags'), ('rolls/buns', 'root vegetables', 'soda'), ('rolls/buns', 'root vegetables', 'tropical fruit'), ('rolls/buns', 'root vegetables', 'whipped/sour cream'), ('rolls/buns', 'root vegetables', 'white bread'), ('rolls/buns', 'root vegetables', 'whole milk'), ('rolls/buns', 'root vegetables', 'yogurt'), ('rolls/buns', 'salty snack', 'sausage'), ('rolls/buns', 'salty snack', 'shopping bags'), ('rolls/buns', 'salty snack', 'soda'), ('rolls/buns', 'salty snack', 'tropical fruit'), ('rolls/buns', 'salty snack', 'whipped/sour cream'), ('rolls/buns', 'salty snack', 'white bread'), ('rolls/buns', 'salty snack', 'whole milk'), ('rolls/buns', 'salty snack', 'yogurt'), ('rolls/buns', 'sausage', 'shopping bags'), ('rolls/buns', 'sausage', 'soda'), ('rolls/buns', 'sausage', 'tropical fruit'), ('rolls/buns', 'sausage', 'whipped/sour cream'), ('rolls/buns', 'sausage', 'white bread'), ('rolls/buns', 'sausage', 'whole milk'), ('rolls/buns', 'sausage', 'yogurt'), ('rolls/buns', 'shopping bags', 'soda'), ('rolls/buns', 'shopping bags', 'tropical fruit'), ('rolls/buns', 'shopping bags', 'whipped/sour cream'), ('rolls/buns', 'shopping bags', 'white bread'), ('rolls/buns', 'shopping bags', 'whole milk'), ('rolls/buns', 'shopping bags', 'yogurt'), ('rolls/buns', 'soda', 'tropical fruit'), ('rolls/buns', 'soda', 'whipped/sour cream'), ('rolls/buns', 'soda', 'white bread'), ('rolls/buns', 'soda', 'whole milk'), ('rolls/buns', 'soda', 'yogurt'), ('rolls/buns', 'tropical fruit', 'whipped/sour cream'), ('rolls/buns', 'tropical fruit', 'white bread'), ('rolls/buns', 'tropical fruit', 'whole milk'), ('rolls/buns', 'tropical fruit', 'yogurt'), ('rolls/buns', 'whipped/sour cream', 'white bread'), ('rolls/buns', 'whipped/sour cream', 'whole milk'), ('rolls/buns', 'whipped/sour cream', 'yogurt'), ('rolls/buns', 'white bread', 'whole milk'), ('rolls/buns', 'white bread', 'yogurt'), ('rolls/buns', 'whole milk', 'yogurt'), ('root vegetables', 'sausage', 'shopping bags'), ('root vegetables', 'sausage', 'soda'), ('root vegetables', 'sausage', 'tropical fruit'), ('root vegetables', 'sausage', 'whipped/sour cream'), ('root vegetables', 'sausage', 'whole milk'), ('root vegetables', 'sausage', 'yogurt'), ('root vegetables', 'shopping bags', 'soda'), ('root vegetables', 'shopping bags', 'tropical fruit'), ('root vegetables', 'shopping bags', 'whipped/sour cream'), ('root vegetables', 'shopping bags', 'whole milk'), ('root vegetables', 'shopping bags', 'yogurt'), ('root vegetables', 'soda', 'tropical fruit'), ('root vegetables', 'soda', 'whipped/sour cream'), ('root vegetables', 'soda', 'whole milk'), ('root vegetables', 'soda', 'yogurt'), ('root vegetables', 'tropical fruit', 'whipped/sour cream'), ('root vegetables', 'tropical fruit', 'whole milk'), ('root vegetables', 'tropical fruit', 'yogurt'), ('root vegetables', 'whipped/sour cream', 'whole milk'), ('root vegetables', 'whipped/sour cream', 'yogurt'), ('root vegetables', 'whole milk', 'yogurt'), ('sausage', 'shopping bags', 'soda'), ('sausage', 'shopping bags', 'tropical fruit'), ('sausage', 'shopping bags', 'whipped/sour cream'), ('sausage', 'shopping bags', 'whole milk'), ('sausage', 'shopping bags', 'yogurt'), ('sausage', 'soda', 'tropical fruit'), ('sausage', 'soda', 'whipped/sour cream'), ('sausage', 'soda', 'whole milk'), ('sausage', 'soda', 'yogurt'), ('sausage', 'tropical fruit', 'whipped/sour cream'), ('sausage', 'tropical fruit', 'whole milk'), ('sausage', 'tropical fruit', 'yogurt'), ('sausage', 'whipped/sour cream', 'whole milk'), ('sausage', 'whipped/sour cream', 'yogurt'), ('sausage', 'whole milk', 'yogurt'), ('shopping bags', 'soda', 'tropical fruit'), ('shopping bags', 'soda', 'whole milk'), ('shopping bags', 'soda', 'yogurt'), ('shopping bags', 'tropical fruit', 'whole milk'), ('shopping bags', 'tropical fruit', 'yogurt'), ('shopping bags', 'whole milk', 'yogurt'), ('soda', 'tropical fruit', 'whipped/sour cream'), ('soda', 'tropical fruit', 'whole milk'), ('soda', 'tropical fruit', 'yogurt'), ('soda', 'whipped/sour cream', 'whole milk'), ('soda', 'whipped/sour cream', 'yogurt'), ('soda', 'whole milk', 'yogurt'), ('tropical fruit', 'whipped/sour cream', 'whole milk'), ('tropical fruit', 'whipped/sour cream', 'yogurt'), ('tropical fruit', 'whole milk', 'yogurt'), ('whipped/sour cream', 'whole milk', 'yogurt')]\n",
      "[('UHT-milk', 'other vegetables', 'rolls/buns'), ('UHT-milk', 'other vegetables', 'whole milk'), ('UHT-milk', 'rolls/buns', 'whole milk'), ('beef', 'citrus fruit', 'other vegetables'), ('beef', 'citrus fruit', 'root vegetables'), ('beef', 'citrus fruit', 'soda'), ('beef', 'citrus fruit', 'whole milk'), ('beef', 'citrus fruit', 'yogurt'), ('beef', 'newspapers', 'other vegetables'), ('beef', 'newspapers', 'root vegetables'), ('beef', 'newspapers', 'soda'), ('beef', 'newspapers', 'whole milk'), ('beef', 'newspapers', 'yogurt'), ('beef', 'other vegetables', 'root vegetables'), ('beef', 'other vegetables', 'soda'), ('beef', 'other vegetables', 'whole milk'), ('beef', 'other vegetables', 'yogurt'), ('beef', 'root vegetables', 'soda'), ('beef', 'root vegetables', 'whole milk'), ('beef', 'root vegetables', 'yogurt'), ('beef', 'soda', 'whole milk'), ('beef', 'soda', 'yogurt'), ('beef', 'whole milk', 'yogurt'), ('berries', 'other vegetables', 'rolls/buns'), ('berries', 'other vegetables', 'whole milk'), ('berries', 'rolls/buns', 'whole milk'), ('beverages', 'other vegetables', 'soda'), ('beverages', 'other vegetables', 'whole milk'), ('beverages', 'soda', 'whole milk'), ('bottled beer', 'bottled water', 'butter'), ('bottled beer', 'bottled water', 'citrus fruit'), ('bottled beer', 'bottled water', 'domestic eggs'), ('bottled beer', 'bottled water', 'frankfurter'), ('bottled beer', 'bottled water', 'newspapers'), ('bottled beer', 'bottled water', 'other vegetables'), ('bottled beer', 'bottled water', 'pastry'), ('bottled beer', 'bottled water', 'rolls/buns'), ('bottled beer', 'bottled water', 'root vegetables'), ('bottled beer', 'bottled water', 'sausage'), ('bottled beer', 'bottled water', 'soda'), ('bottled beer', 'bottled water', 'tropical fruit'), ('bottled beer', 'bottled water', 'whole milk'), ('bottled beer', 'bottled water', 'yogurt'), ('bottled beer', 'butter', 'citrus fruit'), ('bottled beer', 'butter', 'frankfurter'), ('bottled beer', 'butter', 'newspapers'), ('bottled beer', 'butter', 'other vegetables'), ('bottled beer', 'butter', 'rolls/buns'), ('bottled beer', 'butter', 'root vegetables'), ('bottled beer', 'butter', 'sausage'), ('bottled beer', 'butter', 'soda'), ('bottled beer', 'butter', 'whole milk'), ('bottled beer', 'butter', 'yogurt'), ('bottled beer', 'canned beer', 'domestic eggs'), ('bottled beer', 'canned beer', 'fruit/vegetable juice'), ('bottled beer', 'canned beer', 'newspapers'), ('bottled beer', 'canned beer', 'other vegetables'), ('bottled beer', 'canned beer', 'pastry'), ('bottled beer', 'canned beer', 'rolls/buns'), ('bottled beer', 'canned beer', 'root vegetables'), ('bottled beer', 'canned beer', 'sausage'), ('bottled beer', 'canned beer', 'soda'), ('bottled beer', 'canned beer', 'tropical fruit'), ('bottled beer', 'canned beer', 'whole milk'), ('bottled beer', 'canned beer', 'yogurt'), ('bottled beer', 'citrus fruit', 'frankfurter'), ('bottled beer', 'citrus fruit', 'newspapers'), ('bottled beer', 'citrus fruit', 'other vegetables'), ('bottled beer', 'citrus fruit', 'pastry'), ('bottled beer', 'citrus fruit', 'rolls/buns'), ('bottled beer', 'citrus fruit', 'root vegetables'), ('bottled beer', 'citrus fruit', 'soda'), ('bottled beer', 'citrus fruit', 'tropical fruit'), ('bottled beer', 'citrus fruit', 'whole milk'), ('bottled beer', 'citrus fruit', 'yogurt'), ('bottled beer', 'domestic eggs', 'fruit/vegetable juice'), ('bottled beer', 'domestic eggs', 'other vegetables'), ('bottled beer', 'domestic eggs', 'rolls/buns'), ('bottled beer', 'domestic eggs', 'root vegetables'), ('bottled beer', 'domestic eggs', 'sausage'), ('bottled beer', 'domestic eggs', 'soda'), ('bottled beer', 'domestic eggs', 'tropical fruit'), ('bottled beer', 'domestic eggs', 'whole milk'), ('bottled beer', 'domestic eggs', 'yogurt'), ('bottled beer', 'frankfurter', 'newspapers'), ('bottled beer', 'frankfurter', 'other vegetables'), ('bottled beer', 'frankfurter', 'pastry'), ('bottled beer', 'frankfurter', 'rolls/buns'), ('bottled beer', 'frankfurter', 'root vegetables'), ('bottled beer', 'frankfurter', 'soda'), ('bottled beer', 'frankfurter', 'whole milk'), ('bottled beer', 'frankfurter', 'yogurt'), ('bottled beer', 'fruit/vegetable juice', 'other vegetables'), ('bottled beer', 'fruit/vegetable juice', 'rolls/buns'), ('bottled beer', 'fruit/vegetable juice', 'root vegetables'), ('bottled beer', 'fruit/vegetable juice', 'sausage'), ('bottled beer', 'fruit/vegetable juice', 'soda'), ('bottled beer', 'fruit/vegetable juice', 'tropical fruit'), ('bottled beer', 'fruit/vegetable juice', 'whole milk'), ('bottled beer', 'fruit/vegetable juice', 'yogurt'), ('bottled beer', 'newspapers', 'other vegetables'), ('bottled beer', 'newspapers', 'pastry'), ('bottled beer', 'newspapers', 'rolls/buns'), ('bottled beer', 'newspapers', 'root vegetables'), ('bottled beer', 'newspapers', 'sausage'), ('bottled beer', 'newspapers', 'soda'), ('bottled beer', 'newspapers', 'tropical fruit'), ('bottled beer', 'newspapers', 'whole milk'), ('bottled beer', 'newspapers', 'yogurt'), ('bottled beer', 'other vegetables', 'pastry'), ('bottled beer', 'other vegetables', 'rolls/buns'), ('bottled beer', 'other vegetables', 'root vegetables'), ('bottled beer', 'other vegetables', 'sausage'), ('bottled beer', 'other vegetables', 'soda'), ('bottled beer', 'other vegetables', 'tropical fruit'), ('bottled beer', 'other vegetables', 'whole milk'), ('bottled beer', 'other vegetables', 'yogurt'), ('bottled beer', 'pastry', 'rolls/buns'), ('bottled beer', 'pastry', 'root vegetables'), ('bottled beer', 'pastry', 'sausage'), ('bottled beer', 'pastry', 'soda'), ('bottled beer', 'pastry', 'tropical fruit'), ('bottled beer', 'pastry', 'whole milk'), ('bottled beer', 'pastry', 'yogurt'), ('bottled beer', 'rolls/buns', 'root vegetables'), ('bottled beer', 'rolls/buns', 'sausage'), ('bottled beer', 'rolls/buns', 'soda'), ('bottled beer', 'rolls/buns', 'tropical fruit'), ('bottled beer', 'rolls/buns', 'whole milk'), ('bottled beer', 'rolls/buns', 'yogurt'), ('bottled beer', 'root vegetables', 'sausage'), ('bottled beer', 'root vegetables', 'soda'), ('bottled beer', 'root vegetables', 'tropical fruit'), ('bottled beer', 'root vegetables', 'whole milk'), ('bottled beer', 'root vegetables', 'yogurt'), ('bottled beer', 'sausage', 'soda'), ('bottled beer', 'sausage', 'tropical fruit'), ('bottled beer', 'sausage', 'whole milk'), ('bottled beer', 'sausage', 'yogurt'), ('bottled beer', 'soda', 'tropical fruit'), ('bottled beer', 'soda', 'whole milk'), ('bottled beer', 'soda', 'yogurt'), ('bottled beer', 'tropical fruit', 'whole milk'), ('bottled beer', 'tropical fruit', 'yogurt'), ('bottled beer', 'whole milk', 'yogurt'), ('bottled water', 'butter', 'citrus fruit'), ('bottled water', 'butter', 'domestic eggs'), ('bottled water', 'butter', 'newspapers'), ('bottled water', 'butter', 'other vegetables'), ('bottled water', 'butter', 'pip fruit'), ('bottled water', 'butter', 'rolls/buns'), ('bottled water', 'butter', 'root vegetables'), ('bottled water', 'butter', 'sausage'), ('bottled water', 'butter', 'soda'), ('bottled water', 'butter', 'whipped/sour cream'), ('bottled water', 'butter', 'whole milk'), ('bottled water', 'butter', 'yogurt'), ('bottled water', 'citrus fruit', 'domestic eggs'), ('bottled water', 'citrus fruit', 'frankfurter'), ('bottled water', 'citrus fruit', 'other vegetables'), ('bottled water', 'citrus fruit', 'pastry'), ('bottled water', 'citrus fruit', 'rolls/buns'), ('bottled water', 'citrus fruit', 'root vegetables'), ('bottled water', 'citrus fruit', 'shopping bags'), ('bottled water', 'citrus fruit', 'soda'), ('bottled water', 'citrus fruit', 'tropical fruit'), ('bottled water', 'citrus fruit', 'whipped/sour cream'), ('bottled water', 'citrus fruit', 'whole milk'), ('bottled water', 'citrus fruit', 'yogurt'), ('bottled water', 'curd', 'frankfurter'), ('bottled water', 'curd', 'other vegetables'), ('bottled water', 'curd', 'pip fruit'), ('bottled water', 'curd', 'rolls/buns'), ('bottled water', 'curd', 'sausage'), ('bottled water', 'curd', 'soda'), ('bottled water', 'curd', 'tropical fruit'), ('bottled water', 'curd', 'whipped/sour cream'), ('bottled water', 'curd', 'whole milk'), ('bottled water', 'curd', 'yogurt'), ('bottled water', 'domestic eggs', 'newspapers'), ('bottled water', 'domestic eggs', 'other vegetables'), ('bottled water', 'domestic eggs', 'pip fruit'), ('bottled water', 'domestic eggs', 'rolls/buns'), ('bottled water', 'domestic eggs', 'root vegetables'), ('bottled water', 'domestic eggs', 'sausage'), ('bottled water', 'domestic eggs', 'soda'), ('bottled water', 'domestic eggs', 'tropical fruit'), ('bottled water', 'domestic eggs', 'whole milk'), ('bottled water', 'domestic eggs', 'yogurt'), ('bottled water', 'frankfurter', 'other vegetables'), ('bottled water', 'frankfurter', 'pastry'), ('bottled water', 'frankfurter', 'pip fruit'), ('bottled water', 'frankfurter', 'rolls/buns'), ('bottled water', 'frankfurter', 'root vegetables'), ('bottled water', 'frankfurter', 'shopping bags'), ('bottled water', 'frankfurter', 'soda'), ('bottled water', 'frankfurter', 'whipped/sour cream'), ('bottled water', 'frankfurter', 'whole milk'), ('bottled water', 'frankfurter', 'yogurt'), ('bottled water', 'newspapers', 'other vegetables'), ('bottled water', 'newspapers', 'pastry'), ('bottled water', 'newspapers', 'rolls/buns'), ('bottled water', 'newspapers', 'root vegetables'), ('bottled water', 'newspapers', 'sausage'), ('bottled water', 'newspapers', 'shopping bags'), ('bottled water', 'newspapers', 'soda'), ('bottled water', 'newspapers', 'tropical fruit'), ('bottled water', 'newspapers', 'whole milk'), ('bottled water', 'newspapers', 'yogurt'), ('bottled water', 'other vegetables', 'pastry'), ('bottled water', 'other vegetables', 'pip fruit'), ('bottled water', 'other vegetables', 'rolls/buns'), ('bottled water', 'other vegetables', 'root vegetables'), ('bottled water', 'other vegetables', 'sausage'), ('bottled water', 'other vegetables', 'shopping bags'), ('bottled water', 'other vegetables', 'soda'), ('bottled water', 'other vegetables', 'tropical fruit'), ('bottled water', 'other vegetables', 'whipped/sour cream'), ('bottled water', 'other vegetables', 'whole milk'), ('bottled water', 'other vegetables', 'yogurt'), ('bottled water', 'pastry', 'pip fruit'), ('bottled water', 'pastry', 'rolls/buns'), ('bottled water', 'pastry', 'root vegetables'), ('bottled water', 'pastry', 'sausage'), ('bottled water', 'pastry', 'soda'), ('bottled water', 'pastry', 'tropical fruit'), ('bottled water', 'pastry', 'whole milk'), ('bottled water', 'pastry', 'yogurt'), ('bottled water', 'pip fruit', 'rolls/buns'), ('bottled water', 'pip fruit', 'root vegetables'), ('bottled water', 'pip fruit', 'sausage'), ('bottled water', 'pip fruit', 'shopping bags'), ('bottled water', 'pip fruit', 'soda'), ('bottled water', 'pip fruit', 'tropical fruit'), ('bottled water', 'pip fruit', 'whipped/sour cream'), ('bottled water', 'pip fruit', 'whole milk'), ('bottled water', 'pip fruit', 'yogurt'), ('bottled water', 'rolls/buns', 'root vegetables'), ('bottled water', 'rolls/buns', 'sausage'), ('bottled water', 'rolls/buns', 'shopping bags'), ('bottled water', 'rolls/buns', 'soda'), ('bottled water', 'rolls/buns', 'tropical fruit'), ('bottled water', 'rolls/buns', 'whipped/sour cream'), ('bottled water', 'rolls/buns', 'whole milk'), ('bottled water', 'rolls/buns', 'yogurt'), ('bottled water', 'root vegetables', 'sausage'), ('bottled water', 'root vegetables', 'shopping bags'), ('bottled water', 'root vegetables', 'soda'), ('bottled water', 'root vegetables', 'tropical fruit'), ('bottled water', 'root vegetables', 'whipped/sour cream'), ('bottled water', 'root vegetables', 'whole milk'), ('bottled water', 'root vegetables', 'yogurt'), ('bottled water', 'sausage', 'shopping bags'), ('bottled water', 'sausage', 'soda'), ('bottled water', 'sausage', 'tropical fruit'), ('bottled water', 'sausage', 'whipped/sour cream'), ('bottled water', 'sausage', 'whole milk'), ('bottled water', 'sausage', 'yogurt'), ('bottled water', 'shopping bags', 'soda'), ('bottled water', 'shopping bags', 'tropical fruit'), ('bottled water', 'shopping bags', 'whole milk'), ('bottled water', 'shopping bags', 'yogurt'), ('bottled water', 'soda', 'tropical fruit'), ('bottled water', 'soda', 'whipped/sour cream'), ('bottled water', 'soda', 'whole milk'), ('bottled water', 'soda', 'yogurt'), ('bottled water', 'tropical fruit', 'whipped/sour cream'), ('bottled water', 'tropical fruit', 'whole milk'), ('bottled water', 'tropical fruit', 'yogurt'), ('bottled water', 'whipped/sour cream', 'whole milk'), ('bottled water', 'whipped/sour cream', 'yogurt'), ('bottled water', 'whole milk', 'yogurt'), ('brown bread', 'canned beer', 'other vegetables'), ('brown bread', 'canned beer', 'pastry'), ('brown bread', 'canned beer', 'pork'), ('brown bread', 'canned beer', 'rolls/buns'), ('brown bread', 'canned beer', 'sausage'), ('brown bread', 'canned beer', 'soda'), ('brown bread', 'canned beer', 'whole milk'), ('brown bread', 'canned beer', 'yogurt'), ('brown bread', 'citrus fruit', 'other vegetables'), ('brown bread', 'citrus fruit', 'pastry'), ('brown bread', 'citrus fruit', 'pork'), ('brown bread', 'citrus fruit', 'rolls/buns'), ('brown bread', 'citrus fruit', 'soda'), ('brown bread', 'citrus fruit', 'whole milk'), ('brown bread', 'citrus fruit', 'yogurt'), ('brown bread', 'other vegetables', 'pastry'), ('brown bread', 'other vegetables', 'pip fruit'), ('brown bread', 'other vegetables', 'pork'), ('brown bread', 'other vegetables', 'rolls/buns'), ('brown bread', 'other vegetables', 'sausage'), ('brown bread', 'other vegetables', 'soda'), ('brown bread', 'other vegetables', 'whole milk'), ('brown bread', 'other vegetables', 'yogurt'), ('brown bread', 'pastry', 'pip fruit'), ('brown bread', 'pastry', 'rolls/buns'), ('brown bread', 'pastry', 'sausage'), ('brown bread', 'pastry', 'soda'), ('brown bread', 'pastry', 'whole milk'), ('brown bread', 'pastry', 'yogurt'), ('brown bread', 'pip fruit', 'rolls/buns'), ('brown bread', 'pip fruit', 'sausage'), ('brown bread', 'pip fruit', 'soda'), ('brown bread', 'pip fruit', 'whole milk'), ('brown bread', 'pip fruit', 'yogurt'), ('brown bread', 'pork', 'rolls/buns'), ('brown bread', 'pork', 'soda'), ('brown bread', 'pork', 'whole milk'), ('brown bread', 'pork', 'yogurt'), ('brown bread', 'rolls/buns', 'sausage'), ('brown bread', 'rolls/buns', 'soda'), ('brown bread', 'rolls/buns', 'whole milk'), ('brown bread', 'rolls/buns', 'yogurt'), ('brown bread', 'sausage', 'soda'), ('brown bread', 'sausage', 'whole milk'), ('brown bread', 'sausage', 'yogurt'), ('brown bread', 'soda', 'whole milk'), ('brown bread', 'soda', 'yogurt'), ('brown bread', 'whole milk', 'yogurt'), ('butter', 'citrus fruit', 'other vegetables'), ('butter', 'citrus fruit', 'rolls/buns'), ('butter', 'citrus fruit', 'root vegetables'), ('butter', 'citrus fruit', 'soda'), ('butter', 'citrus fruit', 'whole milk'), ('butter', 'citrus fruit', 'yogurt'), ('butter', 'other vegetables', 'rolls/buns'), ('butter', 'other vegetables', 'root vegetables'), ('butter', 'other vegetables', 'sausage'), ('butter', 'other vegetables', 'soda'), ('butter', 'other vegetables', 'whole milk'), ('butter', 'other vegetables', 'yogurt'), ('butter', 'rolls/buns', 'root vegetables'), ('butter', 'rolls/buns', 'sausage'), ('butter', 'rolls/buns', 'soda'), ('butter', 'rolls/buns', 'whole milk'), ('butter', 'rolls/buns', 'yogurt'), ('butter', 'root vegetables', 'sausage'), ('butter', 'root vegetables', 'soda'), ('butter', 'root vegetables', 'whole milk'), ('butter', 'root vegetables', 'yogurt'), ('butter', 'sausage', 'soda'), ('butter', 'sausage', 'whole milk'), ('butter', 'sausage', 'yogurt'), ('butter', 'soda', 'whole milk'), ('butter', 'soda', 'yogurt'), ('butter', 'whole milk', 'yogurt'), ('canned beer', 'newspapers', 'other vegetables'), ('canned beer', 'newspapers', 'pastry'), ('canned beer', 'newspapers', 'rolls/buns'), ('canned beer', 'newspapers', 'root vegetables'), ('canned beer', 'newspapers', 'sausage'), ('canned beer', 'newspapers', 'shopping bags'), ('canned beer', 'newspapers', 'soda'), ('canned beer', 'newspapers', 'tropical fruit'), ('canned beer', 'newspapers', 'whole milk'), ('canned beer', 'newspapers', 'yogurt'), ('canned beer', 'other vegetables', 'pastry'), ('canned beer', 'other vegetables', 'pork'), ('canned beer', 'other vegetables', 'rolls/buns'), ('canned beer', 'other vegetables', 'root vegetables'), ('canned beer', 'other vegetables', 'sausage'), ('canned beer', 'other vegetables', 'shopping bags'), ('canned beer', 'other vegetables', 'soda'), ('canned beer', 'other vegetables', 'tropical fruit'), ('canned beer', 'other vegetables', 'whole milk'), ('canned beer', 'other vegetables', 'yogurt'), ('canned beer', 'pastry', 'rolls/buns'), ('canned beer', 'pastry', 'root vegetables'), ('canned beer', 'pastry', 'sausage'), ('canned beer', 'pastry', 'soda'), ('canned beer', 'pastry', 'tropical fruit'), ('canned beer', 'pastry', 'whole milk'), ('canned beer', 'pastry', 'yogurt'), ('canned beer', 'pork', 'rolls/buns'), ('canned beer', 'pork', 'root vegetables'), ('canned beer', 'pork', 'shopping bags'), ('canned beer', 'pork', 'soda'), ('canned beer', 'pork', 'whole milk'), ('canned beer', 'pork', 'yogurt'), ('canned beer', 'rolls/buns', 'root vegetables'), ('canned beer', 'rolls/buns', 'sausage'), ('canned beer', 'rolls/buns', 'shopping bags'), ('canned beer', 'rolls/buns', 'soda'), ('canned beer', 'rolls/buns', 'tropical fruit'), ('canned beer', 'rolls/buns', 'whole milk'), ('canned beer', 'rolls/buns', 'yogurt'), ('canned beer', 'root vegetables', 'sausage'), ('canned beer', 'root vegetables', 'shopping bags'), ('canned beer', 'root vegetables', 'soda'), ('canned beer', 'root vegetables', 'tropical fruit'), ('canned beer', 'root vegetables', 'whole milk'), ('canned beer', 'root vegetables', 'yogurt'), ('canned beer', 'sausage', 'shopping bags'), ('canned beer', 'sausage', 'soda'), ('canned beer', 'sausage', 'tropical fruit'), ('canned beer', 'sausage', 'whole milk'), ('canned beer', 'sausage', 'yogurt'), ('canned beer', 'shopping bags', 'soda'), ('canned beer', 'shopping bags', 'tropical fruit'), ('canned beer', 'shopping bags', 'whole milk'), ('canned beer', 'shopping bags', 'yogurt'), ('canned beer', 'soda', 'tropical fruit'), ('canned beer', 'soda', 'whole milk'), ('canned beer', 'soda', 'yogurt'), ('canned beer', 'tropical fruit', 'whole milk'), ('canned beer', 'tropical fruit', 'yogurt'), ('canned beer', 'whole milk', 'yogurt'), ('chicken', 'other vegetables', 'rolls/buns'), ('chicken', 'other vegetables', 'soda'), ('chicken', 'other vegetables', 'whole milk'), ('chicken', 'other vegetables', 'yogurt'), ('chicken', 'rolls/buns', 'soda'), ('chicken', 'rolls/buns', 'whole milk'), ('chicken', 'rolls/buns', 'yogurt'), ('chicken', 'soda', 'whole milk'), ('chicken', 'soda', 'yogurt'), ('chicken', 'whole milk', 'yogurt'), ('chocolate', 'other vegetables', 'rolls/buns'), ('chocolate', 'other vegetables', 'soda'), ('chocolate', 'other vegetables', 'whole milk'), ('chocolate', 'rolls/buns', 'soda'), ('chocolate', 'rolls/buns', 'whole milk'), ('chocolate', 'soda', 'whole milk'), ('citrus fruit', 'frankfurter', 'other vegetables'), ('citrus fruit', 'frankfurter', 'pastry'), ('citrus fruit', 'frankfurter', 'rolls/buns'), ('citrus fruit', 'frankfurter', 'root vegetables'), ('citrus fruit', 'frankfurter', 'soda'), ('citrus fruit', 'frankfurter', 'whipped/sour cream'), ('citrus fruit', 'frankfurter', 'whole milk'), ('citrus fruit', 'frankfurter', 'yogurt'), ('citrus fruit', 'other vegetables', 'pastry'), ('citrus fruit', 'other vegetables', 'rolls/buns'), ('citrus fruit', 'other vegetables', 'root vegetables'), ('citrus fruit', 'other vegetables', 'shopping bags'), ('citrus fruit', 'other vegetables', 'soda'), ('citrus fruit', 'other vegetables', 'tropical fruit'), ('citrus fruit', 'other vegetables', 'whipped/sour cream'), ('citrus fruit', 'other vegetables', 'whole milk'), ('citrus fruit', 'other vegetables', 'yogurt'), ('citrus fruit', 'pastry', 'rolls/buns'), ('citrus fruit', 'pastry', 'root vegetables'), ('citrus fruit', 'pastry', 'soda'), ('citrus fruit', 'pastry', 'tropical fruit'), ('citrus fruit', 'pastry', 'whole milk'), ('citrus fruit', 'pastry', 'yogurt'), ('citrus fruit', 'rolls/buns', 'root vegetables'), ('citrus fruit', 'rolls/buns', 'shopping bags'), ('citrus fruit', 'rolls/buns', 'soda'), ('citrus fruit', 'rolls/buns', 'tropical fruit'), ('citrus fruit', 'rolls/buns', 'whipped/sour cream'), ('citrus fruit', 'rolls/buns', 'whole milk'), ('citrus fruit', 'rolls/buns', 'yogurt'), ('citrus fruit', 'root vegetables', 'shopping bags'), ('citrus fruit', 'root vegetables', 'soda'), ('citrus fruit', 'root vegetables', 'tropical fruit'), ('citrus fruit', 'root vegetables', 'whipped/sour cream'), ('citrus fruit', 'root vegetables', 'whole milk'), ('citrus fruit', 'root vegetables', 'yogurt'), ('citrus fruit', 'shopping bags', 'soda'), ('citrus fruit', 'shopping bags', 'tropical fruit'), ('citrus fruit', 'shopping bags', 'whole milk'), ('citrus fruit', 'shopping bags', 'yogurt'), ('citrus fruit', 'soda', 'tropical fruit'), ('citrus fruit', 'soda', 'whipped/sour cream'), ('citrus fruit', 'soda', 'whole milk'), ('citrus fruit', 'soda', 'yogurt'), ('citrus fruit', 'tropical fruit', 'whipped/sour cream'), ('citrus fruit', 'tropical fruit', 'whole milk'), ('citrus fruit', 'tropical fruit', 'yogurt'), ('citrus fruit', 'whipped/sour cream', 'whole milk'), ('citrus fruit', 'whipped/sour cream', 'yogurt'), ('citrus fruit', 'whole milk', 'yogurt'), ('coffee', 'other vegetables', 'rolls/buns'), ('coffee', 'other vegetables', 'root vegetables'), ('coffee', 'other vegetables', 'soda'), ('coffee', 'other vegetables', 'whole milk'), ('coffee', 'other vegetables', 'yogurt'), ('coffee', 'rolls/buns', 'root vegetables'), ('coffee', 'rolls/buns', 'soda'), ('coffee', 'rolls/buns', 'whole milk'), ('coffee', 'rolls/buns', 'yogurt'), ('coffee', 'root vegetables', 'soda'), ('coffee', 'root vegetables', 'whole milk'), ('coffee', 'root vegetables', 'yogurt'), ('coffee', 'soda', 'whole milk'), ('coffee', 'soda', 'yogurt'), ('coffee', 'whole milk', 'yogurt'), ('cream cheese ', 'other vegetables', 'rolls/buns'), ('cream cheese ', 'other vegetables', 'whole milk'), ('cream cheese ', 'rolls/buns', 'whole milk'), ('curd', 'other vegetables', 'rolls/buns'), ('curd', 'other vegetables', 'sausage'), ('curd', 'other vegetables', 'soda'), ('curd', 'other vegetables', 'tropical fruit'), ('curd', 'other vegetables', 'whipped/sour cream'), ('curd', 'other vegetables', 'whole milk'), ('curd', 'other vegetables', 'yogurt'), ('curd', 'rolls/buns', 'sausage'), ('curd', 'rolls/buns', 'soda'), ('curd', 'rolls/buns', 'tropical fruit'), ('curd', 'rolls/buns', 'whipped/sour cream'), ('curd', 'rolls/buns', 'whole milk'), ('curd', 'rolls/buns', 'yogurt'), ('curd', 'sausage', 'soda'), ('curd', 'sausage', 'tropical fruit'), ('curd', 'sausage', 'whipped/sour cream'), ('curd', 'sausage', 'whole milk'), ('curd', 'sausage', 'yogurt'), ('curd', 'soda', 'tropical fruit'), ('curd', 'soda', 'whipped/sour cream'), ('curd', 'soda', 'whole milk'), ('curd', 'soda', 'yogurt'), ('curd', 'tropical fruit', 'whipped/sour cream'), ('curd', 'tropical fruit', 'whole milk'), ('curd', 'tropical fruit', 'yogurt'), ('curd', 'whipped/sour cream', 'whole milk'), ('curd', 'whipped/sour cream', 'yogurt'), ('curd', 'whole milk', 'yogurt'), ('dessert', 'other vegetables', 'rolls/buns'), ('dessert', 'other vegetables', 'whole milk'), ('dessert', 'rolls/buns', 'whole milk'), ('domestic eggs', 'other vegetables', 'rolls/buns'), ('domestic eggs', 'other vegetables', 'root vegetables'), ('domestic eggs', 'other vegetables', 'sausage'), ('domestic eggs', 'other vegetables', 'soda'), ('domestic eggs', 'other vegetables', 'tropical fruit'), ('domestic eggs', 'other vegetables', 'whole milk'), ('domestic eggs', 'other vegetables', 'yogurt'), ('domestic eggs', 'rolls/buns', 'root vegetables'), ('domestic eggs', 'rolls/buns', 'sausage'), ('domestic eggs', 'rolls/buns', 'soda'), ('domestic eggs', 'rolls/buns', 'tropical fruit'), ('domestic eggs', 'rolls/buns', 'whole milk'), ('domestic eggs', 'rolls/buns', 'yogurt'), ('domestic eggs', 'root vegetables', 'sausage'), ('domestic eggs', 'root vegetables', 'soda'), ('domestic eggs', 'root vegetables', 'tropical fruit'), ('domestic eggs', 'root vegetables', 'whole milk'), ('domestic eggs', 'root vegetables', 'yogurt'), ('domestic eggs', 'sausage', 'soda'), ('domestic eggs', 'sausage', 'tropical fruit'), ('domestic eggs', 'sausage', 'whole milk'), ('domestic eggs', 'sausage', 'yogurt'), ('domestic eggs', 'soda', 'tropical fruit'), ('domestic eggs', 'soda', 'whole milk'), ('domestic eggs', 'soda', 'yogurt'), ('domestic eggs', 'tropical fruit', 'whole milk'), ('domestic eggs', 'tropical fruit', 'yogurt'), ('domestic eggs', 'whole milk', 'yogurt'), ('frankfurter', 'other vegetables', 'pastry'), ('frankfurter', 'other vegetables', 'pip fruit'), ('frankfurter', 'other vegetables', 'rolls/buns'), ('frankfurter', 'other vegetables', 'root vegetables'), ('frankfurter', 'other vegetables', 'soda'), ('frankfurter', 'other vegetables', 'whole milk'), ('frankfurter', 'other vegetables', 'yogurt'), ('frankfurter', 'pastry', 'pip fruit'), ('frankfurter', 'pastry', 'rolls/buns'), ('frankfurter', 'pastry', 'root vegetables'), ('frankfurter', 'pastry', 'soda'), ('frankfurter', 'pastry', 'whole milk'), ('frankfurter', 'pastry', 'yogurt'), ('frankfurter', 'pip fruit', 'rolls/buns'), ('frankfurter', 'pip fruit', 'root vegetables'), ('frankfurter', 'pip fruit', 'soda'), ('frankfurter', 'pip fruit', 'whole milk'), ('frankfurter', 'pip fruit', 'yogurt'), ('frankfurter', 'rolls/buns', 'root vegetables'), ('frankfurter', 'rolls/buns', 'soda'), ('frankfurter', 'rolls/buns', 'whole milk'), ('frankfurter', 'rolls/buns', 'yogurt'), ('frankfurter', 'root vegetables', 'soda'), ('frankfurter', 'root vegetables', 'whole milk'), ('frankfurter', 'root vegetables', 'yogurt'), ('frankfurter', 'soda', 'whole milk'), ('frankfurter', 'soda', 'yogurt'), ('frankfurter', 'whole milk', 'yogurt'), ('frozen meals', 'other vegetables', 'whole milk'), ('frozen vegetables', 'other vegetables', 'rolls/buns'), ('frozen vegetables', 'other vegetables', 'root vegetables'), ('frozen vegetables', 'other vegetables', 'sausage'), ('frozen vegetables', 'other vegetables', 'soda'), ('frozen vegetables', 'other vegetables', 'whole milk'), ('frozen vegetables', 'other vegetables', 'yogurt'), ('frozen vegetables', 'rolls/buns', 'root vegetables'), ('frozen vegetables', 'rolls/buns', 'sausage'), ('frozen vegetables', 'rolls/buns', 'soda'), ('frozen vegetables', 'rolls/buns', 'whole milk'), ('frozen vegetables', 'rolls/buns', 'yogurt'), ('frozen vegetables', 'root vegetables', 'sausage'), ('frozen vegetables', 'root vegetables', 'soda'), ('frozen vegetables', 'root vegetables', 'whole milk'), ('frozen vegetables', 'root vegetables', 'yogurt'), ('frozen vegetables', 'sausage', 'soda'), ('frozen vegetables', 'sausage', 'whole milk'), ('frozen vegetables', 'sausage', 'yogurt'), ('frozen vegetables', 'soda', 'whole milk'), ('frozen vegetables', 'soda', 'yogurt'), ('frozen vegetables', 'whole milk', 'yogurt'), ('fruit/vegetable juice', 'other vegetables', 'rolls/buns'), ('fruit/vegetable juice', 'other vegetables', 'root vegetables'), ('fruit/vegetable juice', 'other vegetables', 'sausage'), ('fruit/vegetable juice', 'other vegetables', 'soda'), ('fruit/vegetable juice', 'other vegetables', 'tropical fruit'), ('fruit/vegetable juice', 'other vegetables', 'whole milk'), ('fruit/vegetable juice', 'other vegetables', 'yogurt'), ('fruit/vegetable juice', 'rolls/buns', 'root vegetables'), ('fruit/vegetable juice', 'rolls/buns', 'sausage'), ('fruit/vegetable juice', 'rolls/buns', 'soda'), ('fruit/vegetable juice', 'rolls/buns', 'tropical fruit'), ('fruit/vegetable juice', 'rolls/buns', 'whole milk'), ('fruit/vegetable juice', 'rolls/buns', 'yogurt'), ('fruit/vegetable juice', 'root vegetables', 'sausage'), ('fruit/vegetable juice', 'root vegetables', 'soda'), ('fruit/vegetable juice', 'root vegetables', 'tropical fruit'), ('fruit/vegetable juice', 'root vegetables', 'whole milk'), ('fruit/vegetable juice', 'root vegetables', 'yogurt'), ('fruit/vegetable juice', 'sausage', 'soda'), ('fruit/vegetable juice', 'sausage', 'tropical fruit'), ('fruit/vegetable juice', 'sausage', 'whole milk'), ('fruit/vegetable juice', 'sausage', 'yogurt'), ('fruit/vegetable juice', 'soda', 'tropical fruit'), ('fruit/vegetable juice', 'soda', 'whole milk'), ('fruit/vegetable juice', 'soda', 'yogurt'), ('fruit/vegetable juice', 'tropical fruit', 'whole milk'), ('fruit/vegetable juice', 'tropical fruit', 'yogurt'), ('fruit/vegetable juice', 'whole milk', 'yogurt'), ('hamburger meat', 'other vegetables', 'rolls/buns'), ('hamburger meat', 'other vegetables', 'soda'), ('hamburger meat', 'other vegetables', 'whole milk'), ('hamburger meat', 'other vegetables', 'yogurt'), ('hamburger meat', 'rolls/buns', 'soda'), ('hamburger meat', 'rolls/buns', 'whole milk'), ('hamburger meat', 'rolls/buns', 'yogurt'), ('hamburger meat', 'soda', 'whole milk'), ('hamburger meat', 'soda', 'yogurt'), ('hamburger meat', 'whole milk', 'yogurt'), ('hard cheese', 'other vegetables', 'rolls/buns'), ('hard cheese', 'other vegetables', 'whole milk'), ('hard cheese', 'rolls/buns', 'whole milk'), ('ice cream', 'rolls/buns', 'whole milk'), ('long life bakery product', 'rolls/buns', 'whole milk'), ('margarine', 'other vegetables', 'rolls/buns'), ('margarine', 'other vegetables', 'root vegetables'), ('margarine', 'other vegetables', 'sausage'), ('margarine', 'other vegetables', 'soda'), ('margarine', 'other vegetables', 'whole milk'), ('margarine', 'other vegetables', 'yogurt'), ('margarine', 'rolls/buns', 'root vegetables'), ('margarine', 'rolls/buns', 'sausage'), ('margarine', 'rolls/buns', 'soda'), ('margarine', 'rolls/buns', 'whole milk'), ('margarine', 'rolls/buns', 'yogurt'), ('margarine', 'root vegetables', 'sausage'), ('margarine', 'root vegetables', 'soda'), ('margarine', 'root vegetables', 'whole milk'), ('margarine', 'root vegetables', 'yogurt'), ('margarine', 'sausage', 'soda'), ('margarine', 'sausage', 'whole milk'), ('margarine', 'sausage', 'yogurt'), ('margarine', 'soda', 'whole milk'), ('margarine', 'soda', 'yogurt'), ('margarine', 'whole milk', 'yogurt'), ('meat', 'other vegetables', 'whole milk'), ('napkins', 'other vegetables', 'pastry'), ('napkins', 'other vegetables', 'rolls/buns'), ('napkins', 'other vegetables', 'whole milk'), ('napkins', 'other vegetables', 'yogurt'), ('napkins', 'pastry', 'rolls/buns'), ('napkins', 'pastry', 'whole milk'), ('napkins', 'pastry', 'yogurt'), ('napkins', 'rolls/buns', 'whole milk'), ('napkins', 'rolls/buns', 'yogurt'), ('napkins', 'whole milk', 'yogurt'), ('newspapers', 'other vegetables', 'pastry'), ('newspapers', 'other vegetables', 'rolls/buns'), ('newspapers', 'other vegetables', 'root vegetables'), ('newspapers', 'other vegetables', 'sausage'), ('newspapers', 'other vegetables', 'shopping bags'), ('newspapers', 'other vegetables', 'soda'), ('newspapers', 'other vegetables', 'tropical fruit'), ('newspapers', 'other vegetables', 'whole milk'), ('newspapers', 'other vegetables', 'yogurt'), ('newspapers', 'pastry', 'rolls/buns'), ('newspapers', 'pastry', 'root vegetables'), ('newspapers', 'pastry', 'sausage'), ('newspapers', 'pastry', 'soda'), ('newspapers', 'pastry', 'tropical fruit'), ('newspapers', 'pastry', 'whole milk'), ('newspapers', 'pastry', 'yogurt'), ('newspapers', 'rolls/buns', 'root vegetables'), ('newspapers', 'rolls/buns', 'sausage'), ('newspapers', 'rolls/buns', 'shopping bags'), ('newspapers', 'rolls/buns', 'soda'), ('newspapers', 'rolls/buns', 'tropical fruit'), ('newspapers', 'rolls/buns', 'whole milk'), ('newspapers', 'rolls/buns', 'yogurt'), ('newspapers', 'root vegetables', 'sausage'), ('newspapers', 'root vegetables', 'shopping bags'), ('newspapers', 'root vegetables', 'soda'), ('newspapers', 'root vegetables', 'tropical fruit'), ('newspapers', 'root vegetables', 'whole milk'), ('newspapers', 'root vegetables', 'yogurt'), ('newspapers', 'sausage', 'shopping bags'), ('newspapers', 'sausage', 'soda'), ('newspapers', 'sausage', 'tropical fruit'), ('newspapers', 'sausage', 'whole milk'), ('newspapers', 'sausage', 'yogurt'), ('newspapers', 'shopping bags', 'soda'), ('newspapers', 'shopping bags', 'tropical fruit'), ('newspapers', 'shopping bags', 'whole milk'), ('newspapers', 'shopping bags', 'yogurt'), ('newspapers', 'soda', 'tropical fruit'), ('newspapers', 'soda', 'whole milk'), ('newspapers', 'soda', 'yogurt'), ('newspapers', 'tropical fruit', 'whole milk'), ('newspapers', 'tropical fruit', 'yogurt'), ('newspapers', 'whole milk', 'yogurt'), ('oil', 'other vegetables', 'soda'), ('oil', 'other vegetables', 'whole milk'), ('oil', 'soda', 'whole milk'), ('onions', 'rolls/buns', 'whole milk'), ('other vegetables', 'pastry', 'pip fruit'), ('other vegetables', 'pastry', 'rolls/buns'), ('other vegetables', 'pastry', 'root vegetables'), ('other vegetables', 'pastry', 'sausage'), ('other vegetables', 'pastry', 'soda'), ('other vegetables', 'pastry', 'specialty chocolate'), ('other vegetables', 'pastry', 'tropical fruit'), ('other vegetables', 'pastry', 'whipped/sour cream'), ('other vegetables', 'pastry', 'whole milk'), ('other vegetables', 'pastry', 'yogurt'), ('other vegetables', 'pip fruit', 'rolls/buns'), ('other vegetables', 'pip fruit', 'root vegetables'), ('other vegetables', 'pip fruit', 'sausage'), ('other vegetables', 'pip fruit', 'shopping bags'), ('other vegetables', 'pip fruit', 'soda'), ('other vegetables', 'pip fruit', 'specialty chocolate'), ('other vegetables', 'pip fruit', 'tropical fruit'), ('other vegetables', 'pip fruit', 'whipped/sour cream'), ('other vegetables', 'pip fruit', 'whole milk'), ('other vegetables', 'pip fruit', 'yogurt'), ('other vegetables', 'pork', 'rolls/buns'), ('other vegetables', 'pork', 'root vegetables'), ('other vegetables', 'pork', 'sausage'), ('other vegetables', 'pork', 'soda'), ('other vegetables', 'pork', 'specialty chocolate'), ('other vegetables', 'pork', 'waffles'), ('other vegetables', 'pork', 'white bread'), ('other vegetables', 'pork', 'whole milk'), ('other vegetables', 'pork', 'yogurt'), ('other vegetables', 'rolls/buns', 'root vegetables'), ('other vegetables', 'rolls/buns', 'salty snack'), ('other vegetables', 'rolls/buns', 'sausage'), ('other vegetables', 'rolls/buns', 'shopping bags'), ('other vegetables', 'rolls/buns', 'soda'), ('other vegetables', 'rolls/buns', 'specialty chocolate'), ('other vegetables', 'rolls/buns', 'tropical fruit'), ('other vegetables', 'rolls/buns', 'whipped/sour cream'), ('other vegetables', 'rolls/buns', 'white bread'), ('other vegetables', 'rolls/buns', 'whole milk'), ('other vegetables', 'rolls/buns', 'yogurt'), ('other vegetables', 'root vegetables', 'sausage'), ('other vegetables', 'root vegetables', 'shopping bags'), ('other vegetables', 'root vegetables', 'soda'), ('other vegetables', 'root vegetables', 'specialty chocolate'), ('other vegetables', 'root vegetables', 'tropical fruit'), ('other vegetables', 'root vegetables', 'whipped/sour cream'), ('other vegetables', 'root vegetables', 'whole milk'), ('other vegetables', 'root vegetables', 'yogurt'), ('other vegetables', 'salty snack', 'shopping bags'), ('other vegetables', 'salty snack', 'specialty bar'), ('other vegetables', 'salty snack', 'tropical fruit'), ('other vegetables', 'salty snack', 'whipped/sour cream'), ('other vegetables', 'salty snack', 'whole milk'), ('other vegetables', 'sausage', 'shopping bags'), ('other vegetables', 'sausage', 'soda'), ('other vegetables', 'sausage', 'specialty chocolate'), ('other vegetables', 'sausage', 'tropical fruit'), ('other vegetables', 'sausage', 'whipped/sour cream'), ('other vegetables', 'sausage', 'whole milk'), ('other vegetables', 'sausage', 'yogurt'), ('other vegetables', 'shopping bags', 'soda'), ('other vegetables', 'shopping bags', 'specialty chocolate'), ('other vegetables', 'shopping bags', 'tropical fruit'), ('other vegetables', 'shopping bags', 'whipped/sour cream'), ('other vegetables', 'shopping bags', 'whole milk'), ('other vegetables', 'shopping bags', 'yogurt'), ('other vegetables', 'soda', 'specialty chocolate'), ('other vegetables', 'soda', 'tropical fruit'), ('other vegetables', 'soda', 'whipped/sour cream'), ('other vegetables', 'soda', 'whole milk'), ('other vegetables', 'soda', 'yogurt'), ('other vegetables', 'specialty bar', 'tropical fruit'), ('other vegetables', 'specialty bar', 'whipped/sour cream'), ('other vegetables', 'specialty bar', 'whole milk'), ('other vegetables', 'specialty chocolate', 'tropical fruit'), ('other vegetables', 'specialty chocolate', 'whipped/sour cream'), ('other vegetables', 'specialty chocolate', 'whole milk'), ('other vegetables', 'tropical fruit', 'waffles'), ('other vegetables', 'tropical fruit', 'whipped/sour cream'), ('other vegetables', 'tropical fruit', 'whole milk'), ('other vegetables', 'tropical fruit', 'yogurt'), ('other vegetables', 'waffles', 'white bread'), ('other vegetables', 'waffles', 'whole milk'), ('other vegetables', 'whipped/sour cream', 'white bread'), ('other vegetables', 'whipped/sour cream', 'whole milk'), ('other vegetables', 'whipped/sour cream', 'yogurt'), ('other vegetables', 'white bread', 'whole milk'), ('other vegetables', 'whole milk', 'yogurt'), ('pastry', 'pip fruit', 'rolls/buns'), ('pastry', 'pip fruit', 'root vegetables'), ('pastry', 'pip fruit', 'sausage'), ('pastry', 'pip fruit', 'soda'), ('pastry', 'pip fruit', 'tropical fruit'), ('pastry', 'pip fruit', 'whole milk'), ('pastry', 'pip fruit', 'yogurt'), ('pastry', 'rolls/buns', 'root vegetables'), ('pastry', 'rolls/buns', 'sausage'), ('pastry', 'rolls/buns', 'soda'), ('pastry', 'rolls/buns', 'tropical fruit'), ('pastry', 'rolls/buns', 'whole milk'), ('pastry', 'rolls/buns', 'yogurt'), ('pastry', 'root vegetables', 'sausage'), ('pastry', 'root vegetables', 'soda'), ('pastry', 'root vegetables', 'tropical fruit'), ('pastry', 'root vegetables', 'whole milk'), ('pastry', 'root vegetables', 'yogurt'), ('pastry', 'sausage', 'soda'), ('pastry', 'sausage', 'tropical fruit'), ('pastry', 'sausage', 'whole milk'), ('pastry', 'sausage', 'yogurt'), ('pastry', 'soda', 'tropical fruit'), ('pastry', 'soda', 'whole milk'), ('pastry', 'soda', 'yogurt'), ('pastry', 'tropical fruit', 'whole milk'), ('pastry', 'tropical fruit', 'yogurt'), ('pastry', 'whole milk', 'yogurt'), ('pip fruit', 'rolls/buns', 'root vegetables'), ('pip fruit', 'rolls/buns', 'sausage'), ('pip fruit', 'rolls/buns', 'shopping bags'), ('pip fruit', 'rolls/buns', 'soda'), ('pip fruit', 'rolls/buns', 'tropical fruit'), ('pip fruit', 'rolls/buns', 'whipped/sour cream'), ('pip fruit', 'rolls/buns', 'whole milk'), ('pip fruit', 'rolls/buns', 'yogurt'), ('pip fruit', 'root vegetables', 'sausage'), ('pip fruit', 'root vegetables', 'shopping bags'), ('pip fruit', 'root vegetables', 'soda'), ('pip fruit', 'root vegetables', 'tropical fruit'), ('pip fruit', 'root vegetables', 'whipped/sour cream'), ('pip fruit', 'root vegetables', 'whole milk'), ('pip fruit', 'root vegetables', 'yogurt'), ('pip fruit', 'sausage', 'shopping bags'), ('pip fruit', 'sausage', 'soda'), ('pip fruit', 'sausage', 'tropical fruit'), ('pip fruit', 'sausage', 'whipped/sour cream'), ('pip fruit', 'sausage', 'whole milk'), ('pip fruit', 'sausage', 'yogurt'), ('pip fruit', 'shopping bags', 'soda'), ('pip fruit', 'shopping bags', 'tropical fruit'), ('pip fruit', 'shopping bags', 'whole milk'), ('pip fruit', 'shopping bags', 'yogurt'), ('pip fruit', 'soda', 'tropical fruit'), ('pip fruit', 'soda', 'whipped/sour cream'), ('pip fruit', 'soda', 'whole milk'), ('pip fruit', 'soda', 'yogurt'), ('pip fruit', 'tropical fruit', 'whipped/sour cream'), ('pip fruit', 'tropical fruit', 'whole milk'), ('pip fruit', 'tropical fruit', 'yogurt'), ('pip fruit', 'whipped/sour cream', 'whole milk'), ('pip fruit', 'whipped/sour cream', 'yogurt'), ('pip fruit', 'whole milk', 'yogurt'), ('pork', 'rolls/buns', 'root vegetables'), ('pork', 'rolls/buns', 'soda'), ('pork', 'rolls/buns', 'whole milk'), ('pork', 'rolls/buns', 'yogurt'), ('pork', 'root vegetables', 'soda'), ('pork', 'root vegetables', 'whole milk'), ('pork', 'root vegetables', 'yogurt'), ('pork', 'soda', 'whole milk'), ('pork', 'soda', 'yogurt'), ('pork', 'whole milk', 'yogurt'), ('rolls/buns', 'root vegetables', 'sausage'), ('rolls/buns', 'root vegetables', 'shopping bags'), ('rolls/buns', 'root vegetables', 'soda'), ('rolls/buns', 'root vegetables', 'tropical fruit'), ('rolls/buns', 'root vegetables', 'whipped/sour cream'), ('rolls/buns', 'root vegetables', 'whole milk'), ('rolls/buns', 'root vegetables', 'yogurt'), ('rolls/buns', 'salty snack', 'shopping bags'), ('rolls/buns', 'salty snack', 'tropical fruit'), ('rolls/buns', 'salty snack', 'white bread'), ('rolls/buns', 'salty snack', 'whole milk'), ('rolls/buns', 'sausage', 'shopping bags'), ('rolls/buns', 'sausage', 'soda'), ('rolls/buns', 'sausage', 'tropical fruit'), ('rolls/buns', 'sausage', 'whipped/sour cream'), ('rolls/buns', 'sausage', 'whole milk'), ('rolls/buns', 'sausage', 'yogurt'), ('rolls/buns', 'shopping bags', 'soda'), ('rolls/buns', 'shopping bags', 'tropical fruit'), ('rolls/buns', 'shopping bags', 'white bread'), ('rolls/buns', 'shopping bags', 'whole milk'), ('rolls/buns', 'shopping bags', 'yogurt'), ('rolls/buns', 'soda', 'tropical fruit'), ('rolls/buns', 'soda', 'whipped/sour cream'), ('rolls/buns', 'soda', 'whole milk'), ('rolls/buns', 'soda', 'yogurt'), ('rolls/buns', 'tropical fruit', 'whipped/sour cream'), ('rolls/buns', 'tropical fruit', 'whole milk'), ('rolls/buns', 'tropical fruit', 'yogurt'), ('rolls/buns', 'whipped/sour cream', 'whole milk'), ('rolls/buns', 'whipped/sour cream', 'yogurt'), ('rolls/buns', 'white bread', 'whole milk'), ('rolls/buns', 'whole milk', 'yogurt'), ('root vegetables', 'sausage', 'shopping bags'), ('root vegetables', 'sausage', 'soda'), ('root vegetables', 'sausage', 'tropical fruit'), ('root vegetables', 'sausage', 'whipped/sour cream'), ('root vegetables', 'sausage', 'whole milk'), ('root vegetables', 'sausage', 'yogurt'), ('root vegetables', 'shopping bags', 'soda'), ('root vegetables', 'shopping bags', 'tropical fruit'), ('root vegetables', 'shopping bags', 'whole milk'), ('root vegetables', 'shopping bags', 'yogurt'), ('root vegetables', 'soda', 'tropical fruit'), ('root vegetables', 'soda', 'whipped/sour cream'), ('root vegetables', 'soda', 'whole milk'), ('root vegetables', 'soda', 'yogurt'), ('root vegetables', 'tropical fruit', 'whipped/sour cream'), ('root vegetables', 'tropical fruit', 'whole milk'), ('root vegetables', 'tropical fruit', 'yogurt'), ('root vegetables', 'whipped/sour cream', 'whole milk'), ('root vegetables', 'whipped/sour cream', 'yogurt'), ('root vegetables', 'whole milk', 'yogurt'), ('sausage', 'shopping bags', 'soda'), ('sausage', 'shopping bags', 'tropical fruit'), ('sausage', 'shopping bags', 'whole milk'), ('sausage', 'shopping bags', 'yogurt'), ('sausage', 'soda', 'tropical fruit'), ('sausage', 'soda', 'whipped/sour cream'), ('sausage', 'soda', 'whole milk'), ('sausage', 'soda', 'yogurt'), ('sausage', 'tropical fruit', 'whipped/sour cream'), ('sausage', 'tropical fruit', 'whole milk'), ('sausage', 'tropical fruit', 'yogurt'), ('sausage', 'whipped/sour cream', 'whole milk'), ('sausage', 'whipped/sour cream', 'yogurt'), ('sausage', 'whole milk', 'yogurt'), ('shopping bags', 'soda', 'tropical fruit'), ('shopping bags', 'soda', 'whole milk'), ('shopping bags', 'soda', 'yogurt'), ('shopping bags', 'tropical fruit', 'whole milk'), ('shopping bags', 'tropical fruit', 'yogurt'), ('shopping bags', 'whole milk', 'yogurt'), ('soda', 'tropical fruit', 'whipped/sour cream'), ('soda', 'tropical fruit', 'whole milk'), ('soda', 'tropical fruit', 'yogurt'), ('soda', 'whipped/sour cream', 'whole milk'), ('soda', 'whipped/sour cream', 'yogurt'), ('soda', 'whole milk', 'yogurt'), ('tropical fruit', 'whipped/sour cream', 'whole milk'), ('tropical fruit', 'whipped/sour cream', 'yogurt'), ('tropical fruit', 'whole milk', 'yogurt'), ('whipped/sour cream', 'whole milk', 'yogurt')]\n",
      "(UHT-milk, other vegetables, rolls/buns)             2\n",
      "(UHT-milk, other vegetables, whole milk)             2\n",
      "(UHT-milk, rolls/buns, whole milk)                   2\n",
      "(beef, citrus fruit, other vegetables)               1\n",
      "(beef, citrus fruit, root vegetables)                1\n",
      "                                                    ..\n",
      "(soda, whole milk, yogurt)                          14\n",
      "(tropical fruit, whipped/sour cream, whole milk)     2\n",
      "(tropical fruit, whipped/sour cream, yogurt)         3\n",
      "(tropical fruit, whole milk, yogurt)                12\n",
      "(whipped/sour cream, whole milk, yogurt)             5\n",
      "Length: 968, dtype: int64\n",
      "k: 4 L: None\n",
      "L1: Instant food products      60\n",
      "UHT-milk                  323\n",
      "artif. sweetener           29\n",
      "baking powder             122\n",
      "beef                      516\n",
      "                         ... \n",
      "white bread               362\n",
      "white wine                176\n",
      "whole milk               2502\n",
      "yogurt                   1334\n",
      "zwieback                   60\n",
      "Name: count, Length: 132, dtype: int64\n",
      "L2: (UHT-milk, other vegetables)         32\n",
      "(UHT-milk, rolls/buns)               27\n",
      "(UHT-milk, whole milk)               38\n",
      "(beef, citrus fruit)                 27\n",
      "(beef, newspapers)                   25\n",
      "                                   ... \n",
      "(waffles, whole milk)                39\n",
      "(whipped/sour cream, whole milk)     69\n",
      "(whipped/sour cream, yogurt)         44\n",
      "(white bread, whole milk)            47\n",
      "(whole milk, yogurt)                167\n",
      "Length: 285, dtype: int64\n"
     ]
    }
   ],
   "source": [
    "a.define()"
   ]
  },
  {
   "cell_type": "code",
   "execution_count": 28,
   "id": "b8327c48",
   "metadata": {},
   "outputs": [
    {
     "data": {
      "text/plain": [
       "(rolls/buns, tropical fruit)           91\n",
       "(other vegetables, tropical fruit)     94\n",
       "(shopping bags, whole milk)            95\n",
       "(pastry, whole milk)                   97\n",
       "(pip fruit, whole milk)                99\n",
       "(citrus fruit, whole milk)            107\n",
       "(bottled water, whole milk)           107\n",
       "(bottled beer, whole milk)            107\n",
       "(root vegetables, whole milk)         113\n",
       "(rolls/buns, yogurt)                  117\n",
       "(other vegetables, yogurt)            121\n",
       "(rolls/buns, soda)                    121\n",
       "(tropical fruit, whole milk)          123\n",
       "(sausage, whole milk)                 134\n",
       "(other vegetables, soda)              145\n",
       "(other vegetables, rolls/buns)        158\n",
       "(whole milk, yogurt)                  167\n",
       "(soda, whole milk)                    174\n",
       "(rolls/buns, whole milk)              209\n",
       "(other vegetables, whole milk)        222\n",
       "dtype: int64"
      ]
     },
     "execution_count": 28,
     "metadata": {},
     "output_type": "execute_result"
    }
   ],
   "source": [
    "a.L2.sort_values()[-20:]"
   ]
  },
  {
   "cell_type": "markdown",
   "id": "ee8a9c31",
   "metadata": {},
   "source": [
    "### from the above result we observe that the products (citrus fruit, whole milk)            107\n",
    "### (bottled water, whole milk)           107\n",
    "### (bottled beer, whole milk)            107\n",
    "### (root vegetables, whole milk)         113\n",
    "### (rolls/buns, yogurt)                  117\n",
    "### (other vegetables, yogurt)            121\n",
    "### (rolls/buns, soda)                    121\n",
    "### (tropical fruit, whole milk)          123\n",
    "### (sausage, whole milk)                 134\n",
    "### (other vegetables, soda)              145\n",
    "### (other vegetables, rolls/buns)        158\n",
    "### (whole milk, yogurt)                  167\n",
    "### (soda, whole milk)                    174\n",
    "### (rolls/buns, whole milk)              209\n",
    "### (other vegetables, whole milk)  are bought together the most. So, the shop owner can concentrate on placing these products together or giving a combo offer to attract more customers. "
   ]
  },
  {
   "cell_type": "markdown",
   "id": "6351c39d",
   "metadata": {},
   "source": []
  },
  {
   "cell_type": "code",
   "execution_count": null,
   "id": "4bfe9387",
   "metadata": {},
   "outputs": [],
   "source": []
  }
 ],
 "metadata": {
  "kernelspec": {
   "display_name": "Python 3 (ipykernel)",
   "language": "python",
   "name": "python3"
  },
  "language_info": {
   "codemirror_mode": {
    "name": "ipython",
    "version": 3
   },
   "file_extension": ".py",
   "mimetype": "text/x-python",
   "name": "python",
   "nbconvert_exporter": "python",
   "pygments_lexer": "ipython3",
   "version": "3.11.4"
  }
 },
 "nbformat": 4,
 "nbformat_minor": 5
}
